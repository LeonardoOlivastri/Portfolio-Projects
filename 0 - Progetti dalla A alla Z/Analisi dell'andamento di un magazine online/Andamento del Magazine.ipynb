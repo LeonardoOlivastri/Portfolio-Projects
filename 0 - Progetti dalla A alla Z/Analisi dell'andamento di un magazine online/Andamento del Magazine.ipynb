{
 "cells": [
  {
   "cell_type": "markdown",
   "id": "13d70767-010c-437c-9c16-7e9ffd63168d",
   "metadata": {
    "jp-MarkdownHeadingCollapsed": true
   },
   "source": [
    "# <span style='color:orange'> Caricamento dati e Data Cleaning"
   ]
  },
  {
   "cell_type": "markdown",
   "id": "87d672fa-22f6-4f3d-8f8c-7ceb09a9a491",
   "metadata": {
    "jp-MarkdownHeadingCollapsed": true
   },
   "source": [
    "## <span style='color:orange'>Import delle librerie e del csv"
   ]
  },
  {
   "cell_type": "code",
   "execution_count": 1,
   "id": "112caadb-a974-4cc6-a11b-2e4d33d47ade",
   "metadata": {},
   "outputs": [],
   "source": [
    "import pandas as pd\n",
    "import numpy as np\n",
    "import seaborn as sns\n",
    "from matplotlib import pyplot as plt"
   ]
  },
  {
   "cell_type": "code",
   "execution_count": 2,
   "id": "928067d5-2ec9-4c72-9db0-aaaf577575bd",
   "metadata": {},
   "outputs": [],
   "source": [
    "df = pd.read_csv('Information_data Final Project.csv')"
   ]
  },
  {
   "cell_type": "markdown",
   "id": "9ecd4a50-7811-4db0-956f-20ca1cc44f1a",
   "metadata": {
    "jp-MarkdownHeadingCollapsed": true
   },
   "source": [
    "##  <span style='color:orange'>Eliminazione delle colonne inutili"
   ]
  },
  {
   "cell_type": "markdown",
   "id": "ecfe0187-8dc9-4c09-bffc-368428450932",
   "metadata": {},
   "source": [
    "Diamo un'occhiata a come è strutturata visivamente la tabella:"
   ]
  },
  {
   "cell_type": "code",
   "execution_count": 3,
   "id": "2163b3b5-de2d-4791-bfe8-a1fc36cb775a",
   "metadata": {},
   "outputs": [
    {
     "data": {
      "text/html": [
       "<div>\n",
       "<style scoped>\n",
       "    .dataframe tbody tr th:only-of-type {\n",
       "        vertical-align: middle;\n",
       "    }\n",
       "\n",
       "    .dataframe tbody tr th {\n",
       "        vertical-align: top;\n",
       "    }\n",
       "\n",
       "    .dataframe thead th {\n",
       "        text-align: right;\n",
       "    }\n",
       "</style>\n",
       "<table border=\"1\" class=\"dataframe\">\n",
       "  <thead>\n",
       "    <tr style=\"text-align: right;\">\n",
       "      <th></th>\n",
       "      <th>read_date</th>\n",
       "      <th>user_uuid</th>\n",
       "      <th>category</th>\n",
       "      <th>journalist_id</th>\n",
       "      <th>language</th>\n",
       "      <th>length</th>\n",
       "      <th>country</th>\n",
       "      <th>subscription_date</th>\n",
       "      <th>platform</th>\n",
       "      <th>article_id</th>\n",
       "      <th>stars</th>\n",
       "    </tr>\n",
       "  </thead>\n",
       "  <tbody>\n",
       "    <tr>\n",
       "      <th>0</th>\n",
       "      <td>19-2-2022</td>\n",
       "      <td>190</td>\n",
       "      <td>sport</td>\n",
       "      <td>117</td>\n",
       "      <td>fr</td>\n",
       "      <td>long</td>\n",
       "      <td>fr</td>\n",
       "      <td>28-6-2021</td>\n",
       "      <td>tablet</td>\n",
       "      <td>331708</td>\n",
       "      <td>2</td>\n",
       "    </tr>\n",
       "    <tr>\n",
       "      <th>1</th>\n",
       "      <td>25-2-2021</td>\n",
       "      <td>243</td>\n",
       "      <td>art</td>\n",
       "      <td>117</td>\n",
       "      <td>it</td>\n",
       "      <td>short</td>\n",
       "      <td>it</td>\n",
       "      <td>24-8-2020</td>\n",
       "      <td>tablet</td>\n",
       "      <td>5128</td>\n",
       "      <td>3</td>\n",
       "    </tr>\n",
       "    <tr>\n",
       "      <th>2</th>\n",
       "      <td>19-12-2023</td>\n",
       "      <td>36</td>\n",
       "      <td>weather</td>\n",
       "      <td>115</td>\n",
       "      <td>en</td>\n",
       "      <td>long</td>\n",
       "      <td>uk</td>\n",
       "      <td>7-2-2021</td>\n",
       "      <td>tablet</td>\n",
       "      <td>733403</td>\n",
       "      <td>5</td>\n",
       "    </tr>\n",
       "    <tr>\n",
       "      <th>3</th>\n",
       "      <td>27-3-2023</td>\n",
       "      <td>162</td>\n",
       "      <td>finance</td>\n",
       "      <td>111</td>\n",
       "      <td>it</td>\n",
       "      <td>short</td>\n",
       "      <td>it</td>\n",
       "      <td>6-9-2022</td>\n",
       "      <td>tablet</td>\n",
       "      <td>612638</td>\n",
       "      <td>1</td>\n",
       "    </tr>\n",
       "    <tr>\n",
       "      <th>4</th>\n",
       "      <td>22-10-2023</td>\n",
       "      <td>181</td>\n",
       "      <td>economy</td>\n",
       "      <td>119</td>\n",
       "      <td>fr</td>\n",
       "      <td>short</td>\n",
       "      <td>fr</td>\n",
       "      <td>9-12-2020</td>\n",
       "      <td>tablet</td>\n",
       "      <td>211458</td>\n",
       "      <td>3</td>\n",
       "    </tr>\n",
       "  </tbody>\n",
       "</table>\n",
       "</div>"
      ],
      "text/plain": [
       "    read_date  user_uuid category  journalist_id language length country  \\\n",
       "0   19-2-2022        190    sport            117       fr   long      fr   \n",
       "1   25-2-2021        243      art            117       it  short      it   \n",
       "2  19-12-2023         36  weather            115       en   long      uk   \n",
       "3   27-3-2023        162  finance            111       it  short      it   \n",
       "4  22-10-2023        181  economy            119       fr  short      fr   \n",
       "\n",
       "  subscription_date platform  article_id  stars  \n",
       "0         28-6-2021   tablet      331708      2  \n",
       "1         24-8-2020   tablet        5128      3  \n",
       "2          7-2-2021   tablet      733403      5  \n",
       "3          6-9-2022   tablet      612638      1  \n",
       "4         9-12-2020   tablet      211458      3  "
      ]
     },
     "execution_count": 3,
     "metadata": {},
     "output_type": "execute_result"
    }
   ],
   "source": [
    "df.head()"
   ]
  },
  {
   "cell_type": "markdown",
   "id": "c97c4e88-1785-44d8-aa66-973dcfb97b1d",
   "metadata": {},
   "source": [
    "Può darsi che le colonne ***language*** e ***country*** condividano la stessa informazione, ma in un formato diverso.  \n",
    "Proviamo a vedere se esistono delle combinazioni diverse oltre a 'fr'-'fr', 'it'-'it':"
   ]
  },
  {
   "cell_type": "code",
   "execution_count": 4,
   "id": "9a812f1d-1fa3-4ab5-980d-636af085180f",
   "metadata": {},
   "outputs": [
    {
     "data": {
      "text/html": [
       "<div>\n",
       "<style scoped>\n",
       "    .dataframe tbody tr th:only-of-type {\n",
       "        vertical-align: middle;\n",
       "    }\n",
       "\n",
       "    .dataframe tbody tr th {\n",
       "        vertical-align: top;\n",
       "    }\n",
       "\n",
       "    .dataframe thead th {\n",
       "        text-align: right;\n",
       "    }\n",
       "</style>\n",
       "<table border=\"1\" class=\"dataframe\">\n",
       "  <thead>\n",
       "    <tr style=\"text-align: right;\">\n",
       "      <th></th>\n",
       "      <th>read_date</th>\n",
       "      <th>user_uuid</th>\n",
       "      <th>category</th>\n",
       "      <th>journalist_id</th>\n",
       "      <th>language</th>\n",
       "      <th>length</th>\n",
       "      <th>country</th>\n",
       "      <th>subscription_date</th>\n",
       "      <th>platform</th>\n",
       "      <th>article_id</th>\n",
       "      <th>stars</th>\n",
       "    </tr>\n",
       "  </thead>\n",
       "  <tbody>\n",
       "    <tr>\n",
       "      <th>2</th>\n",
       "      <td>19-12-2023</td>\n",
       "      <td>36</td>\n",
       "      <td>weather</td>\n",
       "      <td>115</td>\n",
       "      <td>en</td>\n",
       "      <td>long</td>\n",
       "      <td>uk</td>\n",
       "      <td>7-2-2021</td>\n",
       "      <td>tablet</td>\n",
       "      <td>733403</td>\n",
       "      <td>5</td>\n",
       "    </tr>\n",
       "    <tr>\n",
       "      <th>7</th>\n",
       "      <td>18-9-2023</td>\n",
       "      <td>221</td>\n",
       "      <td>weather</td>\n",
       "      <td>110</td>\n",
       "      <td>en</td>\n",
       "      <td>medium</td>\n",
       "      <td>uk</td>\n",
       "      <td>25-4-2021</td>\n",
       "      <td>tablet</td>\n",
       "      <td>723993</td>\n",
       "      <td>5</td>\n",
       "    </tr>\n",
       "    <tr>\n",
       "      <th>8</th>\n",
       "      <td>5-9-2023</td>\n",
       "      <td>208</td>\n",
       "      <td>finance</td>\n",
       "      <td>117</td>\n",
       "      <td>en</td>\n",
       "      <td>medium</td>\n",
       "      <td>uk</td>\n",
       "      <td>20-11-2022</td>\n",
       "      <td>tablet</td>\n",
       "      <td>623177</td>\n",
       "      <td>2</td>\n",
       "    </tr>\n",
       "    <tr>\n",
       "      <th>10</th>\n",
       "      <td>21-5-2023</td>\n",
       "      <td>206</td>\n",
       "      <td>weather</td>\n",
       "      <td>111</td>\n",
       "      <td>en</td>\n",
       "      <td>medium</td>\n",
       "      <td>uk</td>\n",
       "      <td>7-11-2020</td>\n",
       "      <td>pc</td>\n",
       "      <td>723610</td>\n",
       "      <td>4</td>\n",
       "    </tr>\n",
       "    <tr>\n",
       "      <th>12</th>\n",
       "      <td>11-5-2023</td>\n",
       "      <td>15</td>\n",
       "      <td>weather</td>\n",
       "      <td>107</td>\n",
       "      <td>en</td>\n",
       "      <td>long</td>\n",
       "      <td>uk</td>\n",
       "      <td>13-5-2022</td>\n",
       "      <td>pc</td>\n",
       "      <td>733412</td>\n",
       "      <td>2</td>\n",
       "    </tr>\n",
       "    <tr>\n",
       "      <th>...</th>\n",
       "      <td>...</td>\n",
       "      <td>...</td>\n",
       "      <td>...</td>\n",
       "      <td>...</td>\n",
       "      <td>...</td>\n",
       "      <td>...</td>\n",
       "      <td>...</td>\n",
       "      <td>...</td>\n",
       "      <td>...</td>\n",
       "      <td>...</td>\n",
       "      <td>...</td>\n",
       "    </tr>\n",
       "    <tr>\n",
       "      <th>988</th>\n",
       "      <td>15-7-2023</td>\n",
       "      <td>211</td>\n",
       "      <td>weather</td>\n",
       "      <td>119</td>\n",
       "      <td>en</td>\n",
       "      <td>medium</td>\n",
       "      <td>uk</td>\n",
       "      <td>17-10-2021</td>\n",
       "      <td>tablet</td>\n",
       "      <td>72370</td>\n",
       "      <td>4</td>\n",
       "    </tr>\n",
       "    <tr>\n",
       "      <th>991</th>\n",
       "      <td>9-3-2023</td>\n",
       "      <td>98</td>\n",
       "      <td>economy</td>\n",
       "      <td>108</td>\n",
       "      <td>en</td>\n",
       "      <td>medium</td>\n",
       "      <td>uk</td>\n",
       "      <td>26-9-2020</td>\n",
       "      <td>pc</td>\n",
       "      <td>223747</td>\n",
       "      <td>1</td>\n",
       "    </tr>\n",
       "    <tr>\n",
       "      <th>994</th>\n",
       "      <td>24-9-2023</td>\n",
       "      <td>126</td>\n",
       "      <td>art</td>\n",
       "      <td>100</td>\n",
       "      <td>en</td>\n",
       "      <td>long</td>\n",
       "      <td>uk</td>\n",
       "      <td>2-3-2022</td>\n",
       "      <td>pc</td>\n",
       "      <td>533633</td>\n",
       "      <td>3</td>\n",
       "    </tr>\n",
       "    <tr>\n",
       "      <th>995</th>\n",
       "      <td>1-11-2023</td>\n",
       "      <td>52</td>\n",
       "      <td>weather</td>\n",
       "      <td>110</td>\n",
       "      <td>en</td>\n",
       "      <td>short</td>\n",
       "      <td>uk</td>\n",
       "      <td>15-3-2022</td>\n",
       "      <td>pc</td>\n",
       "      <td>713633</td>\n",
       "      <td>3</td>\n",
       "    </tr>\n",
       "    <tr>\n",
       "      <th>997</th>\n",
       "      <td>16-3-2023</td>\n",
       "      <td>26</td>\n",
       "      <td>weather</td>\n",
       "      <td>116</td>\n",
       "      <td>en</td>\n",
       "      <td>long</td>\n",
       "      <td>uk</td>\n",
       "      <td>20-7-2021</td>\n",
       "      <td>tablet</td>\n",
       "      <td>733281</td>\n",
       "      <td>3</td>\n",
       "    </tr>\n",
       "  </tbody>\n",
       "</table>\n",
       "<p>318 rows × 11 columns</p>\n",
       "</div>"
      ],
      "text/plain": [
       "      read_date  user_uuid category  journalist_id language  length country  \\\n",
       "2    19-12-2023         36  weather            115       en    long      uk   \n",
       "7     18-9-2023        221  weather            110       en  medium      uk   \n",
       "8      5-9-2023        208  finance            117       en  medium      uk   \n",
       "10    21-5-2023        206  weather            111       en  medium      uk   \n",
       "12    11-5-2023         15  weather            107       en    long      uk   \n",
       "..          ...        ...      ...            ...      ...     ...     ...   \n",
       "988   15-7-2023        211  weather            119       en  medium      uk   \n",
       "991    9-3-2023         98  economy            108       en  medium      uk   \n",
       "994   24-9-2023        126      art            100       en    long      uk   \n",
       "995   1-11-2023         52  weather            110       en   short      uk   \n",
       "997   16-3-2023         26  weather            116       en    long      uk   \n",
       "\n",
       "    subscription_date platform  article_id  stars  \n",
       "2            7-2-2021   tablet      733403      5  \n",
       "7           25-4-2021   tablet      723993      5  \n",
       "8          20-11-2022   tablet      623177      2  \n",
       "10          7-11-2020       pc      723610      4  \n",
       "12          13-5-2022       pc      733412      2  \n",
       "..                ...      ...         ...    ...  \n",
       "988        17-10-2021   tablet       72370      4  \n",
       "991         26-9-2020       pc      223747      1  \n",
       "994          2-3-2022       pc      533633      3  \n",
       "995         15-3-2022       pc      713633      3  \n",
       "997         20-7-2021   tablet      733281      3  \n",
       "\n",
       "[318 rows x 11 columns]"
      ]
     },
     "execution_count": 4,
     "metadata": {},
     "output_type": "execute_result"
    }
   ],
   "source": [
    "df.loc[(df['language']!=df['country'])]"
   ]
  },
  {
   "cell_type": "markdown",
   "id": "541a9c9b-fe23-4128-80f7-ec8c76428d97",
   "metadata": {},
   "source": [
    "Contiamo quante di queste righe sono popolate da ***language*** = 'en' e ***country*** = 'uk':"
   ]
  },
  {
   "cell_type": "code",
   "execution_count": 5,
   "id": "0fdc46dd-a11d-44e3-aa72-1814e449207e",
   "metadata": {},
   "outputs": [
    {
     "data": {
      "text/plain": [
       "318"
      ]
     },
     "execution_count": 5,
     "metadata": {},
     "output_type": "execute_result"
    }
   ],
   "source": [
    "df['language'].loc[df['language'] == 'en'].count()"
   ]
  },
  {
   "cell_type": "code",
   "execution_count": 6,
   "id": "fa99b418-75b5-4a41-88f4-ff599293968d",
   "metadata": {},
   "outputs": [
    {
     "data": {
      "text/plain": [
       "318"
      ]
     },
     "execution_count": 6,
     "metadata": {},
     "output_type": "execute_result"
    }
   ],
   "source": [
    "df['language'].loc[df['country'] == 'uk'].count()"
   ]
  },
  {
   "cell_type": "markdown",
   "id": "ffad5515-0a37-41d4-a036-04417344368f",
   "metadata": {},
   "source": [
    "Dato che sono entrambi pari a 318 righe (come la tabella dove le combinazioni 'it'-'it' e 'fr'-'fr' erano state rimosse) possiamo concludere che esistono solamente combinazioni tra 'en' e 'uk'.  \n",
    "Quindi, è stato dimostrato che ***language*** e ***country*** conservano la stessa informazione.  \n",
    "Possiamo eliminare la colonna ***country***:"
   ]
  },
  {
   "cell_type": "code",
   "execution_count": 7,
   "id": "1f32e2d9-18b5-42d9-915d-d81e8e2a229e",
   "metadata": {},
   "outputs": [],
   "source": [
    "df.drop(['country'], axis=1, inplace=True)"
   ]
  },
  {
   "cell_type": "markdown",
   "id": "2d714aba-19d8-4efb-8e2b-052555559934",
   "metadata": {
    "jp-MarkdownHeadingCollapsed": true
   },
   "source": [
    "##  <span style='color:orange'>Struttura del dataframe e analisi dei tipi di dati"
   ]
  },
  {
   "cell_type": "code",
   "execution_count": 8,
   "id": "72316350-e43f-4083-a5e1-86c54090e779",
   "metadata": {
    "scrolled": true
   },
   "outputs": [
    {
     "data": {
      "text/plain": [
       "(999, 10)"
      ]
     },
     "execution_count": 8,
     "metadata": {},
     "output_type": "execute_result"
    }
   ],
   "source": [
    "df.shape"
   ]
  },
  {
   "cell_type": "markdown",
   "id": "4341e4ca-c275-4d34-908b-4770f7709c04",
   "metadata": {},
   "source": [
    "Questo dataset contiene 999 righe e 10 colonne."
   ]
  },
  {
   "cell_type": "code",
   "execution_count": 9,
   "id": "048762e5-5208-4fb2-9613-957d1fc8b00c",
   "metadata": {},
   "outputs": [
    {
     "name": "stdout",
     "output_type": "stream",
     "text": [
      "<class 'pandas.core.frame.DataFrame'>\n",
      "RangeIndex: 999 entries, 0 to 998\n",
      "Data columns (total 10 columns):\n",
      " #   Column             Non-Null Count  Dtype \n",
      "---  ------             --------------  ----- \n",
      " 0   read_date          999 non-null    object\n",
      " 1   user_uuid          999 non-null    int64 \n",
      " 2   category           999 non-null    object\n",
      " 3   journalist_id      999 non-null    int64 \n",
      " 4   language           999 non-null    object\n",
      " 5   length             999 non-null    object\n",
      " 6   subscription_date  999 non-null    object\n",
      " 7   platform           999 non-null    object\n",
      " 8   article_id         999 non-null    int64 \n",
      " 9   stars              999 non-null    int64 \n",
      "dtypes: int64(4), object(6)\n",
      "memory usage: 78.2+ KB\n"
     ]
    }
   ],
   "source": [
    "df.info()"
   ]
  },
  {
   "cell_type": "markdown",
   "id": "14ef4f16-581b-4c32-bbd1-522eda8a7e7d",
   "metadata": {},
   "source": [
    "Notiamo che non ci sono valori nulli in nessun caso.  \n",
    "***user_uuid***, ***journalist_id*** e ***article_id*** sono formattati come 'int64' ma in realtà non dovrebbero essere dei dati numerici, per cui li convertiamo in stringhe:"
   ]
  },
  {
   "cell_type": "code",
   "execution_count": 10,
   "id": "bd6c7e73-3ec7-48e7-abb7-30d45a36413c",
   "metadata": {},
   "outputs": [],
   "source": [
    "df['user_uuid'] = df['user_uuid'].astype('object')\n",
    "df['journalist_id'] = df['journalist_id'].astype('object')\n",
    "df['article_id'] = df['article_id'].astype('object')"
   ]
  },
  {
   "cell_type": "markdown",
   "id": "7078313e-4a6d-4dfc-a4c6-05486e496a4d",
   "metadata": {},
   "source": [
    "***read_date*** e ***subscription_date*** vanno convertite in date:"
   ]
  },
  {
   "cell_type": "code",
   "execution_count": 11,
   "id": "1954e2e1-a91e-4354-b517-00e9ce23c8e1",
   "metadata": {},
   "outputs": [],
   "source": [
    "df['read_date'] = pd.to_datetime(df['read_date'], dayfirst=True)\n",
    "df['subscription_date'] = pd.to_datetime(df['subscription_date'], dayfirst=True)"
   ]
  },
  {
   "cell_type": "markdown",
   "id": "0b3a552f-ac91-437d-8db8-5f08ee111de6",
   "metadata": {},
   "source": [
    "Ricontrolliamo i tipi per conferma:"
   ]
  },
  {
   "cell_type": "code",
   "execution_count": 12,
   "id": "60026662-7151-4f76-b367-f3a4ef8e8c05",
   "metadata": {},
   "outputs": [
    {
     "name": "stdout",
     "output_type": "stream",
     "text": [
      "<class 'pandas.core.frame.DataFrame'>\n",
      "RangeIndex: 999 entries, 0 to 998\n",
      "Data columns (total 10 columns):\n",
      " #   Column             Non-Null Count  Dtype         \n",
      "---  ------             --------------  -----         \n",
      " 0   read_date          999 non-null    datetime64[ns]\n",
      " 1   user_uuid          999 non-null    object        \n",
      " 2   category           999 non-null    object        \n",
      " 3   journalist_id      999 non-null    object        \n",
      " 4   language           999 non-null    object        \n",
      " 5   length             999 non-null    object        \n",
      " 6   subscription_date  999 non-null    datetime64[ns]\n",
      " 7   platform           999 non-null    object        \n",
      " 8   article_id         999 non-null    object        \n",
      " 9   stars              999 non-null    int64         \n",
      "dtypes: datetime64[ns](2), int64(1), object(7)\n",
      "memory usage: 78.2+ KB\n"
     ]
    }
   ],
   "source": [
    "df.info()"
   ]
  },
  {
   "cell_type": "markdown",
   "id": "6a7e08e5-5035-455d-a721-26f440ec1476",
   "metadata": {
    "jp-MarkdownHeadingCollapsed": true
   },
   "source": [
    "## <span style='color:orange'>Controllo dell'esistenza di duplicati"
   ]
  },
  {
   "cell_type": "markdown",
   "id": "7fcf037f-fb82-46fd-aa70-a90ec8616f67",
   "metadata": {},
   "source": [
    "In questo dataframe potrebbero esserci dei duplicati che compromettono l'attendibilità delle analisi.  \n",
    "Proviamo a verificare la loro esistenza:"
   ]
  },
  {
   "cell_type": "code",
   "execution_count": 13,
   "id": "761501bd-eb8f-4293-a545-94212dfa2311",
   "metadata": {
    "scrolled": true
   },
   "outputs": [
    {
     "data": {
      "text/plain": [
       "read_date            0\n",
       "user_uuid            0\n",
       "category             0\n",
       "journalist_id        0\n",
       "language             0\n",
       "length               0\n",
       "subscription_date    0\n",
       "platform             0\n",
       "article_id           0\n",
       "stars                0\n",
       "dtype: int64"
      ]
     },
     "execution_count": 13,
     "metadata": {},
     "output_type": "execute_result"
    }
   ],
   "source": [
    "df.loc[df.duplicated(keep=False)].sort_index().count()"
   ]
  },
  {
   "cell_type": "markdown",
   "id": "0cacaebf-7d1a-4f60-af37-b8805876f414",
   "metadata": {},
   "source": [
    "Non ce ne sono.  "
   ]
  },
  {
   "cell_type": "markdown",
   "id": "07a91dc4-aca1-43c3-b974-ceca6aec4129",
   "metadata": {
    "jp-MarkdownHeadingCollapsed": true
   },
   "source": [
    "##  <span style='color:orange'>Ricerca degli outliers"
   ]
  },
  {
   "cell_type": "markdown",
   "id": "22338e7c-7546-4efa-9c2f-bf60aed4b0c3",
   "metadata": {},
   "source": [
    "Abbiamo già visto grazie al metodo *describe()* che ***stars*** (il nostro unico campo numerico) non ha nessun valore al di fuori del range tra 1 e 5.  \n",
    "Si può quindi assumere che non ci siano outliers in questo dataset."
   ]
  },
  {
   "cell_type": "markdown",
   "id": "cb993d42-0bcd-45b6-b050-bad6be0e5101",
   "metadata": {
    "jp-MarkdownHeadingCollapsed": true
   },
   "source": [
    "## <span style='color:orange'>Salvataggio nuovo csv"
   ]
  },
  {
   "cell_type": "code",
   "execution_count": 14,
   "id": "ef7eb0c4-b041-4db3-8b73-1b622ae052b4",
   "metadata": {},
   "outputs": [],
   "source": [
    "df.to_csv('cleaned.csv')"
   ]
  },
  {
   "cell_type": "markdown",
   "id": "41133544-026b-4e21-bb1c-8a00888fbb36",
   "metadata": {
    "jp-MarkdownHeadingCollapsed": true
   },
   "source": [
    "# <span style='color:orange'> EDA & Analisi"
   ]
  },
  {
   "cell_type": "markdown",
   "id": "6b577c0c-d6cc-485f-89df-00b14c3467b6",
   "metadata": {
    "jp-MarkdownHeadingCollapsed": true
   },
   "source": [
    "## <span style='color:orange'> Struttura del Dataframe"
   ]
  },
  {
   "cell_type": "markdown",
   "id": "e1bf8cdb-7ddf-4a15-a99e-38788c45086e",
   "metadata": {},
   "source": [
    "Possiamo analizzare dei primi dati riguardo a ***read_date***, ***subscription_date*** e ***stars*** per intuirne la distribuzione:"
   ]
  },
  {
   "cell_type": "code",
   "execution_count": 15,
   "id": "dd8f14e9-602c-41d8-8d36-075429663055",
   "metadata": {
    "scrolled": true
   },
   "outputs": [
    {
     "data": {
      "text/html": [
       "<div>\n",
       "<style scoped>\n",
       "    .dataframe tbody tr th:only-of-type {\n",
       "        vertical-align: middle;\n",
       "    }\n",
       "\n",
       "    .dataframe tbody tr th {\n",
       "        vertical-align: top;\n",
       "    }\n",
       "\n",
       "    .dataframe thead th {\n",
       "        text-align: right;\n",
       "    }\n",
       "</style>\n",
       "<table border=\"1\" class=\"dataframe\">\n",
       "  <thead>\n",
       "    <tr style=\"text-align: right;\">\n",
       "      <th></th>\n",
       "      <th>read_date</th>\n",
       "      <th>subscription_date</th>\n",
       "      <th>stars</th>\n",
       "    </tr>\n",
       "  </thead>\n",
       "  <tbody>\n",
       "    <tr>\n",
       "      <th>count</th>\n",
       "      <td>999</td>\n",
       "      <td>999</td>\n",
       "      <td>999.000000</td>\n",
       "    </tr>\n",
       "    <tr>\n",
       "      <th>mean</th>\n",
       "      <td>2023-01-09 16:17:17.837837824</td>\n",
       "      <td>2021-07-01 16:17:17.837837568</td>\n",
       "      <td>2.985986</td>\n",
       "    </tr>\n",
       "    <tr>\n",
       "      <th>min</th>\n",
       "      <td>2021-01-06 00:00:00</td>\n",
       "      <td>2020-01-02 00:00:00</td>\n",
       "      <td>1.000000</td>\n",
       "    </tr>\n",
       "    <tr>\n",
       "      <th>25%</th>\n",
       "      <td>2022-07-09 00:00:00</td>\n",
       "      <td>2020-11-03 00:00:00</td>\n",
       "      <td>2.000000</td>\n",
       "    </tr>\n",
       "    <tr>\n",
       "      <th>50%</th>\n",
       "      <td>2023-03-12 00:00:00</td>\n",
       "      <td>2021-06-28 00:00:00</td>\n",
       "      <td>3.000000</td>\n",
       "    </tr>\n",
       "    <tr>\n",
       "      <th>75%</th>\n",
       "      <td>2023-08-06 12:00:00</td>\n",
       "      <td>2022-03-23 00:00:00</td>\n",
       "      <td>4.000000</td>\n",
       "    </tr>\n",
       "    <tr>\n",
       "      <th>max</th>\n",
       "      <td>2023-12-28 00:00:00</td>\n",
       "      <td>2022-12-23 00:00:00</td>\n",
       "      <td>5.000000</td>\n",
       "    </tr>\n",
       "    <tr>\n",
       "      <th>std</th>\n",
       "      <td>NaN</td>\n",
       "      <td>NaN</td>\n",
       "      <td>1.410597</td>\n",
       "    </tr>\n",
       "  </tbody>\n",
       "</table>\n",
       "</div>"
      ],
      "text/plain": [
       "                           read_date              subscription_date  \\\n",
       "count                            999                            999   \n",
       "mean   2023-01-09 16:17:17.837837824  2021-07-01 16:17:17.837837568   \n",
       "min              2021-01-06 00:00:00            2020-01-02 00:00:00   \n",
       "25%              2022-07-09 00:00:00            2020-11-03 00:00:00   \n",
       "50%              2023-03-12 00:00:00            2021-06-28 00:00:00   \n",
       "75%              2023-08-06 12:00:00            2022-03-23 00:00:00   \n",
       "max              2023-12-28 00:00:00            2022-12-23 00:00:00   \n",
       "std                              NaN                            NaN   \n",
       "\n",
       "            stars  \n",
       "count  999.000000  \n",
       "mean     2.985986  \n",
       "min      1.000000  \n",
       "25%      2.000000  \n",
       "50%      3.000000  \n",
       "75%      4.000000  \n",
       "max      5.000000  \n",
       "std      1.410597  "
      ]
     },
     "execution_count": 15,
     "metadata": {},
     "output_type": "execute_result"
    }
   ],
   "source": [
    "df.describe()"
   ]
  },
  {
   "cell_type": "markdown",
   "id": "564953e7-523e-4fba-b6fa-d1b734b52d2d",
   "metadata": {
    "jp-MarkdownHeadingCollapsed": true
   },
   "source": [
    "La media e la mediana di ***stars*** sono molto vicine tra di loro.  \n",
    "Sempre per quanto riguarda ***stars***, guardando il minimo, il 25°, 50°, 75° percentile e il massimo vediamo come ognuno riporti un numero di stelline diverso: è probabile che ci sia una distribuzione abbastanza omogenea delle valutazioni.  \n",
    "Verifichiamo se ciò corrisponde al vero:  "
   ]
  },
  {
   "cell_type": "code",
   "execution_count": 16,
   "id": "5325152d-2a5d-4a87-87aa-0088c4ba2eb9",
   "metadata": {},
   "outputs": [
    {
     "data": {
      "text/plain": [
       "Text(0, 0.5, 'Numero di Articoli')"
      ]
     },
     "execution_count": 16,
     "metadata": {},
     "output_type": "execute_result"
    },
    {
     "data": {
      "image/png": "[encoded data removed]",
      "text/plain": [
       "<Figure size 500x500 with 1 Axes>"
      ]
     },
     "metadata": {},
     "output_type": "display_data"
    }
   ],
   "source": [
    "stars_x = np.asarray(df['stars'].value_counts().sort_index().index)\n",
    "stars_y = np.asarray(df['stars'].value_counts().sort_index())\n",
    "\n",
    "fig, ax = plt.subplots(1, 1, figsize=(5,5))\n",
    "\n",
    "ax.bar(stars_x, stars_y)\n",
    "ax.set_title('Recensioni', fontsize = 15, color='b')\n",
    "ax.set_xlabel('Numero di Stelle')\n",
    "ax.set_ylabel('Numero di Articoli')"
   ]
  },
  {
   "cell_type": "markdown",
   "id": "48ade1b9-01cb-4336-a12a-6ad4f7dc8cc8",
   "metadata": {},
   "source": [
    "Si conferma la distribuzione abbastanza omogenea delle recensioni, che possiamo anche contare:"
   ]
  },
  {
   "cell_type": "code",
   "execution_count": 17,
   "id": "e9a255c4-ed60-423b-8bd7-b1c1307cbbab",
   "metadata": {},
   "outputs": [
    {
     "data": {
      "text/plain": [
       "stars\n",
       "4    216\n",
       "1    206\n",
       "3    195\n",
       "2    194\n",
       "5    188\n",
       "Name: count, dtype: int64"
      ]
     },
     "execution_count": 17,
     "metadata": {},
     "output_type": "execute_result"
    }
   ],
   "source": [
    "df['stars'].value_counts()"
   ]
  },
  {
   "cell_type": "code",
   "execution_count": 18,
   "id": "f2e1218e-f013-4225-bd44-cfee4f385ec6",
   "metadata": {},
   "outputs": [
    {
     "data": {
      "text/html": [
       "<div>\n",
       "<style scoped>\n",
       "    .dataframe tbody tr th:only-of-type {\n",
       "        vertical-align: middle;\n",
       "    }\n",
       "\n",
       "    .dataframe tbody tr th {\n",
       "        vertical-align: top;\n",
       "    }\n",
       "\n",
       "    .dataframe thead th {\n",
       "        text-align: right;\n",
       "    }\n",
       "</style>\n",
       "<table border=\"1\" class=\"dataframe\">\n",
       "  <thead>\n",
       "    <tr style=\"text-align: right;\">\n",
       "      <th></th>\n",
       "      <th>read_date</th>\n",
       "      <th>subscription_date</th>\n",
       "      <th>stars</th>\n",
       "    </tr>\n",
       "  </thead>\n",
       "  <tbody>\n",
       "    <tr>\n",
       "      <th>count</th>\n",
       "      <td>999</td>\n",
       "      <td>999</td>\n",
       "      <td>999.000000</td>\n",
       "    </tr>\n",
       "    <tr>\n",
       "      <th>mean</th>\n",
       "      <td>2023-01-09 16:17:17.837837824</td>\n",
       "      <td>2021-07-01 16:17:17.837837568</td>\n",
       "      <td>2.985986</td>\n",
       "    </tr>\n",
       "    <tr>\n",
       "      <th>min</th>\n",
       "      <td>2021-01-06 00:00:00</td>\n",
       "      <td>2020-01-02 00:00:00</td>\n",
       "      <td>1.000000</td>\n",
       "    </tr>\n",
       "    <tr>\n",
       "      <th>25%</th>\n",
       "      <td>2022-07-09 00:00:00</td>\n",
       "      <td>2020-11-03 00:00:00</td>\n",
       "      <td>2.000000</td>\n",
       "    </tr>\n",
       "    <tr>\n",
       "      <th>50%</th>\n",
       "      <td>2023-03-12 00:00:00</td>\n",
       "      <td>2021-06-28 00:00:00</td>\n",
       "      <td>3.000000</td>\n",
       "    </tr>\n",
       "    <tr>\n",
       "      <th>75%</th>\n",
       "      <td>2023-08-06 12:00:00</td>\n",
       "      <td>2022-03-23 00:00:00</td>\n",
       "      <td>4.000000</td>\n",
       "    </tr>\n",
       "    <tr>\n",
       "      <th>max</th>\n",
       "      <td>2023-12-28 00:00:00</td>\n",
       "      <td>2022-12-23 00:00:00</td>\n",
       "      <td>5.000000</td>\n",
       "    </tr>\n",
       "    <tr>\n",
       "      <th>std</th>\n",
       "      <td>NaN</td>\n",
       "      <td>NaN</td>\n",
       "      <td>1.410597</td>\n",
       "    </tr>\n",
       "  </tbody>\n",
       "</table>\n",
       "</div>"
      ],
      "text/plain": [
       "                           read_date              subscription_date  \\\n",
       "count                            999                            999   \n",
       "mean   2023-01-09 16:17:17.837837824  2021-07-01 16:17:17.837837568   \n",
       "min              2021-01-06 00:00:00            2020-01-02 00:00:00   \n",
       "25%              2022-07-09 00:00:00            2020-11-03 00:00:00   \n",
       "50%              2023-03-12 00:00:00            2021-06-28 00:00:00   \n",
       "75%              2023-08-06 12:00:00            2022-03-23 00:00:00   \n",
       "max              2023-12-28 00:00:00            2022-12-23 00:00:00   \n",
       "std                              NaN                            NaN   \n",
       "\n",
       "            stars  \n",
       "count  999.000000  \n",
       "mean     2.985986  \n",
       "min      1.000000  \n",
       "25%      2.000000  \n",
       "50%      3.000000  \n",
       "75%      4.000000  \n",
       "max      5.000000  \n",
       "std      1.410597  "
      ]
     },
     "execution_count": 18,
     "metadata": {},
     "output_type": "execute_result"
    }
   ],
   "source": [
    "df.describe()"
   ]
  },
  {
   "cell_type": "markdown",
   "id": "426707f5-75e0-488a-a03e-ecd7abf6e13f",
   "metadata": {},
   "source": [
    "Non ci sono iscrizioni alla rivista precedenti all'inizio del 2020. "
   ]
  },
  {
   "cell_type": "markdown",
   "id": "09c7ff8b-c245-4bba-8dfd-185bc3390e60",
   "metadata": {},
   "source": [
    "Vediamo quanti user, quanti giornalisti e quanti articoli sono presenti nel dataset:"
   ]
  },
  {
   "cell_type": "code",
   "execution_count": 19,
   "id": "577ef871-cd6c-45d3-8fe1-ff8061210050",
   "metadata": {},
   "outputs": [
    {
     "name": "stdout",
     "output_type": "stream",
     "text": [
      "Numero di utenti presenti: 242\n",
      "Numero di giornalisti presenti: 23\n",
      "Numero di articoli presenti: 987\n"
     ]
    }
   ],
   "source": [
    "print(f'Numero di utenti presenti: {len(df['user_uuid'].unique())}')\n",
    "print(f'Numero di giornalisti presenti: {len(df['journalist_id'].unique())}')\n",
    "print(f'Numero di articoli presenti: {len(df['article_id'].unique())}')"
   ]
  },
  {
   "cell_type": "markdown",
   "id": "fcf389c0-5e1b-4a84-a49f-8eb80ea0589a",
   "metadata": {},
   "source": [
    "Guardiamo quali sono le categorie presenti:"
   ]
  },
  {
   "cell_type": "code",
   "execution_count": 20,
   "id": "e4e3736e-67ae-4082-aca8-1c2e4467f1cb",
   "metadata": {},
   "outputs": [
    {
     "data": {
      "text/plain": [
       "array(['sport', 'art', 'weather', 'finance', 'economy', 'lifestyle',\n",
       "       'news'], dtype=object)"
      ]
     },
     "execution_count": 20,
     "metadata": {},
     "output_type": "execute_result"
    }
   ],
   "source": [
    "df['category'].unique()"
   ]
  },
  {
   "cell_type": "markdown",
   "id": "73cba3c1-8a18-43dd-8a64-cb93acb6effd",
   "metadata": {},
   "source": [
    "Contiamo il numero di articoli divisi per lunghezza:"
   ]
  },
  {
   "cell_type": "code",
   "execution_count": 21,
   "id": "552abbdb-32aa-44d5-90c5-5abc40b2025d",
   "metadata": {},
   "outputs": [
    {
     "data": {
      "text/plain": [
       "length\n",
       "long      429\n",
       "short     343\n",
       "medium    227\n",
       "Name: count, dtype: int64"
      ]
     },
     "execution_count": 21,
     "metadata": {},
     "output_type": "execute_result"
    }
   ],
   "source": [
    "df['length'].value_counts()"
   ]
  },
  {
   "cell_type": "markdown",
   "id": "67802200-f6d3-4cf3-9a13-d651a146f382",
   "metadata": {},
   "source": [
    "e facciamo la stessa cosa per i device:"
   ]
  },
  {
   "cell_type": "code",
   "execution_count": 22,
   "id": "f153e991-e1cb-4997-b9a9-286c04e09382",
   "metadata": {
    "scrolled": true
   },
   "outputs": [
    {
     "data": {
      "text/plain": [
       "platform\n",
       "tablet    424\n",
       "pc        339\n",
       "mobile    236\n",
       "Name: count, dtype: int64"
      ]
     },
     "execution_count": 22,
     "metadata": {},
     "output_type": "execute_result"
    }
   ],
   "source": [
    "df['platform'].value_counts()"
   ]
  },
  {
   "cell_type": "markdown",
   "id": "e8782c45-397b-45bb-9f16-38868fb6f371",
   "metadata": {},
   "source": [
    "Da qui si vede già che c'è una preferenza di lettura su tablet, mentre il cellulare è all'ultimo posto, probabilmente per il piccolo formato. "
   ]
  },
  {
   "cell_type": "markdown",
   "id": "b49957b1-90bb-46e8-98b0-2b32fa5f0647",
   "metadata": {
    "jp-MarkdownHeadingCollapsed": true
   },
   "source": [
    "## <span style = 'color:orange'> Categorie"
   ]
  },
  {
   "cell_type": "markdown",
   "id": "af18c252-d8b0-47bc-bfc1-aca036020b12",
   "metadata": {
    "jp-MarkdownHeadingCollapsed": true
   },
   "source": [
    "### <span style='color:orange'>Categorie più lette"
   ]
  },
  {
   "cell_type": "markdown",
   "id": "d7b14d61-c571-44c9-95c6-8abdeec3c065",
   "metadata": {},
   "source": [
    "Contiamo il numero di volte che ogni categoria è stata letta, per identificare una preferenza degli utenti del magazine: "
   ]
  },
  {
   "cell_type": "code",
   "execution_count": 23,
   "id": "7ac065d1-e78c-4334-96bc-4b6f76e6d6da",
   "metadata": {},
   "outputs": [
    {
     "data": {
      "text/plain": [
       "category\n",
       "weather      321\n",
       "sport        191\n",
       "finance      134\n",
       "economy      111\n",
       "news         105\n",
       "lifestyle     76\n",
       "art           61\n",
       "Name: count, dtype: int64"
      ]
     },
     "execution_count": 23,
     "metadata": {},
     "output_type": "execute_result"
    }
   ],
   "source": [
    "df['category'].value_counts()"
   ]
  },
  {
   "cell_type": "markdown",
   "id": "a1cc0ced-479a-4276-875a-6f8a3c35e843",
   "metadata": {},
   "source": [
    "C'è una netta preferenza di articoli riguardanti il meteo e lo sport, con lifestyle e arte a ricoprire gli ultimi due posti.  \n",
    "Vediamo se di semestre in semestre questa affermazione rimane vera:"
   ]
  },
  {
   "cell_type": "code",
   "execution_count": 24,
   "id": "f8991d85-ed70-4460-a7a4-ea44324464d9",
   "metadata": {},
   "outputs": [
    {
     "name": "stdout",
     "output_type": "stream",
     "text": [
      "Categoria più letta del Primo Semestre 2021: weather\n",
      "Categoria più letta del Secondo Semestre 2021: weather\n",
      "Categoria più letta del Primo Semestre 2022: weather\n",
      "Categoria più letta del Secondo Semestre 2022: weather\n",
      "Categoria più letta del Primo Semestre 2023: weather\n",
      "Categoria più letta del Secondo Semestre 2023: weather\n"
     ]
    }
   ],
   "source": [
    "print(f'Categoria più letta del Primo Semestre 2021: {df.loc[df['read_date'] <= '2021-06-30']['category'].value_counts().index[0]}')\n",
    "print(f'Categoria più letta del Secondo Semestre 2021: {df.loc[(df['read_date'] > '2021-06-30')&(df['read_date'] < '2022-01-01')]['category'].value_counts().index[0]}')\n",
    "print(f'Categoria più letta del Primo Semestre 2022: {df.loc[(df['read_date'] <= '2022-06-30')&(df['read_date'] >= '2022-01-01')]['category'].value_counts().index[0]}')\n",
    "print(f'Categoria più letta del Secondo Semestre 2022: {df.loc[(df['read_date'] > '2022-06-30')&(df['read_date'] < '2023-01-01')]['category'].value_counts().index[0]}')\n",
    "print(f'Categoria più letta del Primo Semestre 2023: {df.loc[(df['read_date'] <= '2023-06-30')&(df['read_date'] >= '2023-01-01')]['category'].value_counts().index[0]}')\n",
    "print(f'Categoria più letta del Secondo Semestre 2023: {df.loc[(df['read_date'] > '2023-06-30')]['category'].value_counts().index[0]}')"
   ]
  },
  {
   "cell_type": "markdown",
   "id": "120559ea-86a9-4da9-97be-7676740a79be",
   "metadata": {},
   "source": [
    "Vediamo se anche sport si conferma sempre al secondo posto:"
   ]
  },
  {
   "cell_type": "code",
   "execution_count": 25,
   "id": "0d0dbd68-053a-423c-9c40-c55abb1f2765",
   "metadata": {},
   "outputs": [
    {
     "name": "stdout",
     "output_type": "stream",
     "text": [
      "Seconda categoria più letta del Primo Semestre 2021: finance\n",
      "Seconda categoria più letta del Secondo Semestre 2021: sport\n",
      "Seconda categoria più letta del Primo Semestre 2022: finance\n",
      "Seconda categoria più letta del Secondo Semestre 2022: sport\n",
      "Seconda categoria più letta del Primo Semestre 2023: sport\n",
      "Seconda categoria più letta del Secondo Semestre 2023: sport\n"
     ]
    }
   ],
   "source": [
    "print(f'Seconda categoria più letta del Primo Semestre 2021: {df.loc[df['read_date'] <= '2021-06-30']['category'].value_counts().index[1]}')\n",
    "print(f'Seconda categoria più letta del Secondo Semestre 2021: {df.loc[(df['read_date'] > '2021-06-30')&(df['read_date'] < '2022-01-01')]['category'].value_counts().index[1]}')\n",
    "print(f'Seconda categoria più letta del Primo Semestre 2022: {df.loc[(df['read_date'] <= '2022-06-30')&(df['read_date'] >= '2022-01-01')]['category'].value_counts().index[1]}')\n",
    "print(f'Seconda categoria più letta del Secondo Semestre 2022: {df.loc[(df['read_date'] > '2022-06-30')&(df['read_date'] < '2023-01-01')]['category'].value_counts().index[1]}')\n",
    "print(f'Seconda categoria più letta del Primo Semestre 2023: {df.loc[(df['read_date'] <= '2023-06-30')&(df['read_date'] >= '2023-01-01')]['category'].value_counts().index[1]}')\n",
    "print(f'Seconda categoria più letta del Secondo Semestre 2023: {df.loc[(df['read_date'] > '2023-06-30')]['category'].value_counts().index[1]}')"
   ]
  },
  {
   "cell_type": "markdown",
   "id": "70ee6f46-c7b0-4d17-883a-369fb7b643dd",
   "metadata": {},
   "source": [
    "Nei due primi semestri del 2021 e del 2022 l'argomento finanziario ha superato quello sportivo, che altrimenti si è sempre confermato al secondo posto."
   ]
  },
  {
   "cell_type": "markdown",
   "id": "b821b1df-0c45-4755-910c-d5329c8efd2b",
   "metadata": {},
   "source": [
    "---"
   ]
  },
  {
   "cell_type": "markdown",
   "id": "e0bb5cc0-c551-49eb-89f3-8e3e1da89b0f",
   "metadata": {},
   "source": [
    "La categoria più letta è quindi quella del meteo, ma ciò potrebbe essere influenzato dal numero diverso di articoli per ogni categoria.  \n",
    "Per questo motivo, creiamo un **Potentiality Index** con questa formula: $$\\text{Potentiality Index} = \\frac{\\text{Numero di letture totali per categoria}}{\\text{Numero di articoli per categoria}}$$ In questo modo, saremo in grado anche di capire se ci sono delle categorie in cui si scrive poco ma che meriterebbero più spazio. "
   ]
  },
  {
   "cell_type": "code",
   "execution_count": 26,
   "id": "55246d0d-29c9-4fe8-8b80-24683375d533",
   "metadata": {},
   "outputs": [
    {
     "data": {
      "text/plain": [
       "316"
      ]
     },
     "execution_count": 26,
     "metadata": {},
     "output_type": "execute_result"
    }
   ],
   "source": [
    "df.loc[df['category'] == 'weather']['article_id'].nunique()"
   ]
  },
  {
   "cell_type": "code",
   "execution_count": 27,
   "id": "d5db0574-488c-4408-81fa-e5cf59f4fff8",
   "metadata": {},
   "outputs": [
    {
     "data": {
      "text/html": [
       "<div>\n",
       "<style scoped>\n",
       "    .dataframe tbody tr th:only-of-type {\n",
       "        vertical-align: middle;\n",
       "    }\n",
       "\n",
       "    .dataframe tbody tr th {\n",
       "        vertical-align: top;\n",
       "    }\n",
       "\n",
       "    .dataframe thead th {\n",
       "        text-align: right;\n",
       "    }\n",
       "</style>\n",
       "<table border=\"1\" class=\"dataframe\">\n",
       "  <thead>\n",
       "    <tr style=\"text-align: right;\">\n",
       "      <th></th>\n",
       "      <th>numero di letture</th>\n",
       "      <th>numero di articoli</th>\n",
       "      <th>Potentiality Index</th>\n",
       "    </tr>\n",
       "    <tr>\n",
       "      <th>category</th>\n",
       "      <th></th>\n",
       "      <th></th>\n",
       "      <th></th>\n",
       "    </tr>\n",
       "  </thead>\n",
       "  <tbody>\n",
       "    <tr>\n",
       "      <th>art</th>\n",
       "      <td>61</td>\n",
       "      <td>61</td>\n",
       "      <td>1.000000</td>\n",
       "    </tr>\n",
       "    <tr>\n",
       "      <th>economy</th>\n",
       "      <td>111</td>\n",
       "      <td>111</td>\n",
       "      <td>1.000000</td>\n",
       "    </tr>\n",
       "    <tr>\n",
       "      <th>finance</th>\n",
       "      <td>134</td>\n",
       "      <td>133</td>\n",
       "      <td>1.007519</td>\n",
       "    </tr>\n",
       "    <tr>\n",
       "      <th>lifestyle</th>\n",
       "      <td>76</td>\n",
       "      <td>75</td>\n",
       "      <td>1.013333</td>\n",
       "    </tr>\n",
       "    <tr>\n",
       "      <th>news</th>\n",
       "      <td>105</td>\n",
       "      <td>104</td>\n",
       "      <td>1.009615</td>\n",
       "    </tr>\n",
       "    <tr>\n",
       "      <th>sport</th>\n",
       "      <td>191</td>\n",
       "      <td>189</td>\n",
       "      <td>1.010582</td>\n",
       "    </tr>\n",
       "    <tr>\n",
       "      <th>weather</th>\n",
       "      <td>321</td>\n",
       "      <td>316</td>\n",
       "      <td>1.015823</td>\n",
       "    </tr>\n",
       "  </tbody>\n",
       "</table>\n",
       "</div>"
      ],
      "text/plain": [
       "           numero di letture  numero di articoli  Potentiality Index\n",
       "category                                                            \n",
       "art                       61                  61            1.000000\n",
       "economy                  111                 111            1.000000\n",
       "finance                  134                 133            1.007519\n",
       "lifestyle                 76                  75            1.013333\n",
       "news                     105                 104            1.009615\n",
       "sport                    191                 189            1.010582\n",
       "weather                  321                 316            1.015823"
      ]
     },
     "execution_count": 27,
     "metadata": {},
     "output_type": "execute_result"
    }
   ],
   "source": [
    "categories = pd.DataFrame({'numero di letture': df['category'].value_counts(), 'numero di articoli': df.groupby('category')['article_id'].nunique()})\n",
    "categories['Potentiality Index'] = categories['numero di letture']/categories['numero di articoli']\n",
    "categories"
   ]
  },
  {
   "cell_type": "markdown",
   "id": "5eca0ade-23f7-4b89-a4cf-3ece334bedc7",
   "metadata": {},
   "source": [
    "In questo dataset il numero di articoli è quasi pari al numero di letture, per cui in tutte le categorie ogni articolo è stato letto una volta sola o quasi.  \n",
    "Per garantirsi un numero maggiore di letture basta quindi scrivere il maggior numero possibile di articoli.  \n",
    "Non ci sono categorie che mostrano una maggior potenzialità di altre. "
   ]
  },
  {
   "cell_type": "markdown",
   "id": "ca546dbc-58bf-4c67-9b5a-25846740aac3",
   "metadata": {
    "jp-MarkdownHeadingCollapsed": true
   },
   "source": [
    "### <span style='color:orange'> Categorie con migliori rating"
   ]
  },
  {
   "cell_type": "code",
   "execution_count": 28,
   "id": "b82e3e0a-ef2f-4d4b-92e3-7cfb12b94261",
   "metadata": {},
   "outputs": [
    {
     "data": {
      "text/plain": [
       "category\n",
       "sport        2.780105\n",
       "finance      2.873134\n",
       "economy      3.000000\n",
       "weather      3.000000\n",
       "lifestyle    3.157895\n",
       "art          3.180328\n",
       "news         3.209524\n",
       "Name: stars, dtype: float64"
      ]
     },
     "execution_count": 28,
     "metadata": {},
     "output_type": "execute_result"
    }
   ],
   "source": [
    "df.groupby('category')['stars'].mean().sort_values()"
   ]
  },
  {
   "cell_type": "markdown",
   "id": "eab3672e-a94f-4698-b010-f9d103c3543b",
   "metadata": {},
   "source": [
    "*Art* e *News* hanno il miglior rating medio, mentre *sport* il peggiore. "
   ]
  },
  {
   "cell_type": "markdown",
   "id": "eb1f5ab6-d132-434b-a12d-cf1709448292",
   "metadata": {
    "jp-MarkdownHeadingCollapsed": true
   },
   "source": [
    "## <span style = 'color:orange'> Letture"
   ]
  },
  {
   "cell_type": "markdown",
   "id": "cfac966f-ab75-43e6-9a4a-62b0889e1761",
   "metadata": {
    "jp-MarkdownHeadingCollapsed": true
   },
   "source": [
    "### <span style='color:orange'>Andamento delle letture nel tempo"
   ]
  },
  {
   "cell_type": "markdown",
   "id": "383bb8a2-af16-4997-9bf8-bccec55d0ed2",
   "metadata": {},
   "source": [
    "Plottiamo ora le date di lettura e aggiungiamo anche una media mobile in arancione per rendere più evidente una eventuale tendenza:"
   ]
  },
  {
   "cell_type": "code",
   "execution_count": 29,
   "id": "3b8f99e3-3841-444c-bc0c-e67708990a34",
   "metadata": {},
   "outputs": [
    {
     "data": {
      "text/plain": [
       "Text(0, 0.5, 'Numero di Articoli')"
      ]
     },
     "execution_count": 29,
     "metadata": {},
     "output_type": "execute_result"
    },
    {
     "data": {
      "image/png": "[encoded data removed]",
      "text/plain": [
       "<Figure size 2000x500 with 1 Axes>"
      ]
     },
     "metadata": {},
     "output_type": "display_data"
    }
   ],
   "source": [
    "read_x = np.asarray(df['read_date'].value_counts().sort_index().index)\n",
    "read_y = np.asarray(df['read_date'].value_counts().sort_index())\n",
    "\n",
    "window_size = 15 #numero di dati precedenti che conta la media mobile\n",
    "read_y_smooth = np.convolve(read_y, np.ones(window_size)/window_size, mode='valid')\n",
    "\n",
    "fig, ax = plt.subplots(1, 1, figsize=(20,5))\n",
    "\n",
    "ax.plot(read_x, read_y)\n",
    "ax.plot(read_x[window_size-1:], read_y_smooth)\n",
    "ax.set_title('Letture nel corso del tempo', fontsize = 15, color='b')\n",
    "ax.set_xlabel('Data di Lettura')\n",
    "ax.set_ylabel('Numero di Articoli')"
   ]
  },
  {
   "cell_type": "markdown",
   "id": "9e54b6d9-edb0-4875-acc0-361d5174ab9e",
   "metadata": {},
   "source": [
    "Vediamo che di anno in anno le letture sono aumentate.  \n",
    "**Ricordando però che ogni articolo viene letto una volta sola, questa tendenza non rappresenta davvero un aumento o una diminuzione di attività dei lettori, ma quella dei giornalisti.**  \n",
    "Vediamo anche che ci sono delle tendenze all'interno di ogni anno, e questo si vede in particolare nel 2023.  \n",
    "Proviamo a capire quali sono i periodi migliori e quelli peggiori mese per mese:"
   ]
  },
  {
   "cell_type": "code",
   "execution_count": 30,
   "id": "ae949169-956d-4c06-be54-c77a2560c40c",
   "metadata": {},
   "outputs": [
    {
     "data": {
      "text/plain": [
       "<Axes: xlabel='month'>"
      ]
     },
     "execution_count": 30,
     "metadata": {},
     "output_type": "execute_result"
    },
    {
     "data": {
      "image/png": "[encoded data removed]",
      "text/plain": [
       "<Figure size 640x480 with 1 Axes>"
      ]
     },
     "metadata": {},
     "output_type": "display_data"
    }
   ],
   "source": [
    "month_order = ['Jan', 'Feb', 'Mar', 'Apr', 'May', 'Jun', 'Jul', 'Aug', 'Sep', 'Oct', 'Nov', 'Dec']\n",
    "\n",
    "#Creazione dei sub-Dataframe\n",
    "monthly_2021 = df.loc[df['read_date'] < '2022-01-01'].reset_index() \n",
    "monthly_2022 = df.loc[(df['read_date'] >= '2022-01-01')&(df['read_date'] < '2023-01-01')].reset_index()\n",
    "monthly_2023 = df.loc[df['read_date'] >= '2023-01-01'].reset_index()\n",
    "\n",
    "#Estrapolazione dei mesi dalle date. I mesi verranno convertiti in abbreviazione anziché in numero\n",
    "monthly_2021['month'] = monthly_2021['read_date'].dt.month.replace({1: 'Jan', 2: 'Feb', 3: 'Mar', 4:'Apr', 5:'May', 6:'Jun', 7:'Jul', 8:'Aug', 9:'Sep', 10:'Oct', 11:'Nov', 12:'Dec'})\n",
    "monthly_2021['month'] = pd.Categorical(monthly_2021['month'], categories=month_order, ordered=True)\n",
    "monthly_2021 = monthly_2021['month'].value_counts().sort_index()\n",
    "monthly_2021.plot()\n",
    "\n",
    "monthly_2022['month'] = monthly_2022['read_date'].dt.month.replace({1: 'Jan', 2: 'Feb', 3: 'Mar', 4:'Apr', 5:'May', 6:'Jun', 7:'Jul', 8:'Aug', 9:'Sep', 10:'Oct', 11:'Nov', 12:'Dec'})\n",
    "monthly_2022['month'] = pd.Categorical(monthly_2022['month'], categories=month_order, ordered=True)\n",
    "monthly_2022 = monthly_2022['month'].value_counts().sort_index() / 2 #la divisione è per mantenere tutti e 3 i grafici più o meno alla stessa altezza\n",
    "monthly_2022.plot()\n",
    "\n",
    "monthly_2023['month'] = monthly_2023['read_date'].dt.month.replace({1: 'Jan', 2: 'Feb', 3: 'Mar', 4:'Apr', 5:'May', 6:'Jun', 7:'Jul', 8:'Aug', 9:'Sep', 10:'Oct', 11:'Nov', 12:'Dec'})\n",
    "monthly_2023['month'] = pd.Categorical(monthly_2023['month'], categories=month_order, ordered=True)\n",
    "monthly_2023 = monthly_2023['month'].value_counts().sort_index() / 3\n",
    "monthly_2023.plot()\n"
   ]
  },
  {
   "cell_type": "markdown",
   "id": "2034eabf-505a-40ef-819b-74ca595605d7",
   "metadata": {
    "jp-MarkdownHeadingCollapsed": true
   },
   "source": [
    "Il periodo con maggiori pubblicazioni sembra essere quello di luglio e settembre.  "
   ]
  },
  {
   "cell_type": "markdown",
   "id": "2b55ab71-78e2-4cc7-be79-10fb258406f7",
   "metadata": {
    "jp-MarkdownHeadingCollapsed": true
   },
   "source": [
    "### <span style='color:orange'> Giorni della settimana con più letture"
   ]
  },
  {
   "cell_type": "markdown",
   "id": "f7811696-0ab2-438c-8488-0c3c6545d781",
   "metadata": {},
   "source": [
    "Ci sono dei giorni della settimana in cui le letture sono maggiori? "
   ]
  },
  {
   "cell_type": "code",
   "execution_count": 31,
   "id": "295b696e-73db-4d05-bfbd-b8a044874cb2",
   "metadata": {},
   "outputs": [
    {
     "data": {
      "text/plain": [
       "read_date\n",
       "2    159\n",
       "5    149\n",
       "0    146\n",
       "3    143\n",
       "4    138\n",
       "6    136\n",
       "1    128\n",
       "Name: count, dtype: int64"
      ]
     },
     "execution_count": 31,
     "metadata": {},
     "output_type": "execute_result"
    }
   ],
   "source": [
    "df['read_date'].dt.dayofweek.value_counts()"
   ]
  },
  {
   "cell_type": "markdown",
   "id": "48702d94-72bc-4797-be42-81068eb256ee",
   "metadata": {},
   "source": [
    "Nonostante ci sia una certa omogeneità nei risultati, si vede che mercoledì (indice '2') sia il giorno con più letture e che martedì (indice '1') sia quello con meno letture. "
   ]
  },
  {
   "cell_type": "markdown",
   "id": "c80df1b1-f2ef-4b87-bf42-e4e336dd1435",
   "metadata": {
    "jp-MarkdownHeadingCollapsed": true
   },
   "source": [
    "## <span style = 'color:orange'> Giornalisti"
   ]
  },
  {
   "cell_type": "markdown",
   "id": "01d496b8-97b4-4c10-bd18-aede96612606",
   "metadata": {
    "jp-MarkdownHeadingCollapsed": true
   },
   "source": [
    "### <span style='color:orange'> Giornalisti più letti"
   ]
  },
  {
   "cell_type": "code",
   "execution_count": 32,
   "id": "66a7093c-fef7-4c2e-9062-977115ec7f23",
   "metadata": {},
   "outputs": [
    {
     "data": {
      "text/plain": [
       "journalist_id\n",
       "113    55\n",
       "122    54\n",
       "112    54\n",
       "101    49\n",
       "114    48\n",
       "111    48\n",
       "119    46\n",
       "110    45\n",
       "115    44\n",
       "117    44\n",
       "107    44\n",
       "104    43\n",
       "106    43\n",
       "116    43\n",
       "100    42\n",
       "120    41\n",
       "103    40\n",
       "118    38\n",
       "108    38\n",
       "105    37\n",
       "121    35\n",
       "109    34\n",
       "102    34\n",
       "Name: count, dtype: int64"
      ]
     },
     "execution_count": 32,
     "metadata": {},
     "output_type": "execute_result"
    }
   ],
   "source": [
    "df['journalist_id'].value_counts()"
   ]
  },
  {
   "cell_type": "markdown",
   "id": "2b59d427-5035-4e16-b955-e2998fb56c4e",
   "metadata": {},
   "source": [
    "Vediamo che il giornalista 113 è stato il più seguito.   \n",
    "Ha pubblicato il numero seguente di articoli: "
   ]
  },
  {
   "cell_type": "code",
   "execution_count": 33,
   "id": "11ffbb8f-4c0a-4b22-9dda-cc267e53ea1f",
   "metadata": {},
   "outputs": [
    {
     "data": {
      "text/plain": [
       "55"
      ]
     },
     "execution_count": 33,
     "metadata": {},
     "output_type": "execute_result"
    }
   ],
   "source": [
    "df.loc[df['journalist_id'] == 113]['article_id'].nunique()"
   ]
  },
  {
   "cell_type": "markdown",
   "id": "89ebf470-39d5-4561-8270-c4d08c8f796d",
   "metadata": {},
   "source": [
    "Chè è esattamente pari al numero di volte che è stato letto.  \n",
    "Per scrupolo, ricalcoliamo il ***Potentiality Index*** anche in questo caso come $$\\text{Potentiality Index} = \\frac{\\text{Numero di letture totali per giornalista}}{\\text{Numero di articoli pubblicati per giornalista}}$$"
   ]
  },
  {
   "cell_type": "code",
   "execution_count": 34,
   "id": "a95ac3fe-9aa4-4f29-bc81-06529444c070",
   "metadata": {},
   "outputs": [
    {
     "data": {
      "text/html": [
       "<div>\n",
       "<style scoped>\n",
       "    .dataframe tbody tr th:only-of-type {\n",
       "        vertical-align: middle;\n",
       "    }\n",
       "\n",
       "    .dataframe tbody tr th {\n",
       "        vertical-align: top;\n",
       "    }\n",
       "\n",
       "    .dataframe thead th {\n",
       "        text-align: right;\n",
       "    }\n",
       "</style>\n",
       "<table border=\"1\" class=\"dataframe\">\n",
       "  <thead>\n",
       "    <tr style=\"text-align: right;\">\n",
       "      <th></th>\n",
       "      <th>numero di letture</th>\n",
       "      <th>numero di articoli pubblicati</th>\n",
       "      <th>Potentiality Index</th>\n",
       "    </tr>\n",
       "    <tr>\n",
       "      <th>journalist_id</th>\n",
       "      <th></th>\n",
       "      <th></th>\n",
       "      <th></th>\n",
       "    </tr>\n",
       "  </thead>\n",
       "  <tbody>\n",
       "    <tr>\n",
       "      <th>100</th>\n",
       "      <td>42</td>\n",
       "      <td>42</td>\n",
       "      <td>1.000000</td>\n",
       "    </tr>\n",
       "    <tr>\n",
       "      <th>101</th>\n",
       "      <td>49</td>\n",
       "      <td>49</td>\n",
       "      <td>1.000000</td>\n",
       "    </tr>\n",
       "    <tr>\n",
       "      <th>102</th>\n",
       "      <td>34</td>\n",
       "      <td>33</td>\n",
       "      <td>1.030303</td>\n",
       "    </tr>\n",
       "    <tr>\n",
       "      <th>103</th>\n",
       "      <td>40</td>\n",
       "      <td>40</td>\n",
       "      <td>1.000000</td>\n",
       "    </tr>\n",
       "    <tr>\n",
       "      <th>104</th>\n",
       "      <td>43</td>\n",
       "      <td>43</td>\n",
       "      <td>1.000000</td>\n",
       "    </tr>\n",
       "    <tr>\n",
       "      <th>105</th>\n",
       "      <td>37</td>\n",
       "      <td>37</td>\n",
       "      <td>1.000000</td>\n",
       "    </tr>\n",
       "    <tr>\n",
       "      <th>106</th>\n",
       "      <td>43</td>\n",
       "      <td>42</td>\n",
       "      <td>1.023810</td>\n",
       "    </tr>\n",
       "    <tr>\n",
       "      <th>107</th>\n",
       "      <td>44</td>\n",
       "      <td>44</td>\n",
       "      <td>1.000000</td>\n",
       "    </tr>\n",
       "    <tr>\n",
       "      <th>108</th>\n",
       "      <td>38</td>\n",
       "      <td>38</td>\n",
       "      <td>1.000000</td>\n",
       "    </tr>\n",
       "    <tr>\n",
       "      <th>109</th>\n",
       "      <td>34</td>\n",
       "      <td>34</td>\n",
       "      <td>1.000000</td>\n",
       "    </tr>\n",
       "    <tr>\n",
       "      <th>110</th>\n",
       "      <td>45</td>\n",
       "      <td>45</td>\n",
       "      <td>1.000000</td>\n",
       "    </tr>\n",
       "    <tr>\n",
       "      <th>111</th>\n",
       "      <td>48</td>\n",
       "      <td>48</td>\n",
       "      <td>1.000000</td>\n",
       "    </tr>\n",
       "    <tr>\n",
       "      <th>112</th>\n",
       "      <td>54</td>\n",
       "      <td>54</td>\n",
       "      <td>1.000000</td>\n",
       "    </tr>\n",
       "    <tr>\n",
       "      <th>113</th>\n",
       "      <td>55</td>\n",
       "      <td>55</td>\n",
       "      <td>1.000000</td>\n",
       "    </tr>\n",
       "    <tr>\n",
       "      <th>114</th>\n",
       "      <td>48</td>\n",
       "      <td>48</td>\n",
       "      <td>1.000000</td>\n",
       "    </tr>\n",
       "    <tr>\n",
       "      <th>115</th>\n",
       "      <td>44</td>\n",
       "      <td>44</td>\n",
       "      <td>1.000000</td>\n",
       "    </tr>\n",
       "    <tr>\n",
       "      <th>116</th>\n",
       "      <td>43</td>\n",
       "      <td>43</td>\n",
       "      <td>1.000000</td>\n",
       "    </tr>\n",
       "    <tr>\n",
       "      <th>117</th>\n",
       "      <td>44</td>\n",
       "      <td>44</td>\n",
       "      <td>1.000000</td>\n",
       "    </tr>\n",
       "    <tr>\n",
       "      <th>118</th>\n",
       "      <td>38</td>\n",
       "      <td>38</td>\n",
       "      <td>1.000000</td>\n",
       "    </tr>\n",
       "    <tr>\n",
       "      <th>119</th>\n",
       "      <td>46</td>\n",
       "      <td>46</td>\n",
       "      <td>1.000000</td>\n",
       "    </tr>\n",
       "    <tr>\n",
       "      <th>120</th>\n",
       "      <td>41</td>\n",
       "      <td>41</td>\n",
       "      <td>1.000000</td>\n",
       "    </tr>\n",
       "    <tr>\n",
       "      <th>121</th>\n",
       "      <td>35</td>\n",
       "      <td>35</td>\n",
       "      <td>1.000000</td>\n",
       "    </tr>\n",
       "    <tr>\n",
       "      <th>122</th>\n",
       "      <td>54</td>\n",
       "      <td>54</td>\n",
       "      <td>1.000000</td>\n",
       "    </tr>\n",
       "  </tbody>\n",
       "</table>\n",
       "</div>"
      ],
      "text/plain": [
       "               numero di letture  numero di articoli pubblicati  \\\n",
       "journalist_id                                                     \n",
       "100                           42                             42   \n",
       "101                           49                             49   \n",
       "102                           34                             33   \n",
       "103                           40                             40   \n",
       "104                           43                             43   \n",
       "105                           37                             37   \n",
       "106                           43                             42   \n",
       "107                           44                             44   \n",
       "108                           38                             38   \n",
       "109                           34                             34   \n",
       "110                           45                             45   \n",
       "111                           48                             48   \n",
       "112                           54                             54   \n",
       "113                           55                             55   \n",
       "114                           48                             48   \n",
       "115                           44                             44   \n",
       "116                           43                             43   \n",
       "117                           44                             44   \n",
       "118                           38                             38   \n",
       "119                           46                             46   \n",
       "120                           41                             41   \n",
       "121                           35                             35   \n",
       "122                           54                             54   \n",
       "\n",
       "               Potentiality Index  \n",
       "journalist_id                      \n",
       "100                      1.000000  \n",
       "101                      1.000000  \n",
       "102                      1.030303  \n",
       "103                      1.000000  \n",
       "104                      1.000000  \n",
       "105                      1.000000  \n",
       "106                      1.023810  \n",
       "107                      1.000000  \n",
       "108                      1.000000  \n",
       "109                      1.000000  \n",
       "110                      1.000000  \n",
       "111                      1.000000  \n",
       "112                      1.000000  \n",
       "113                      1.000000  \n",
       "114                      1.000000  \n",
       "115                      1.000000  \n",
       "116                      1.000000  \n",
       "117                      1.000000  \n",
       "118                      1.000000  \n",
       "119                      1.000000  \n",
       "120                      1.000000  \n",
       "121                      1.000000  \n",
       "122                      1.000000  "
      ]
     },
     "execution_count": 34,
     "metadata": {},
     "output_type": "execute_result"
    }
   ],
   "source": [
    "journalists = pd.DataFrame({'numero di letture': df['journalist_id'].value_counts(), 'numero di articoli pubblicati': df.groupby('journalist_id')['article_id'].nunique()})\n",
    "journalists['Potentiality Index'] = journalists['numero di letture']/journalists['numero di articoli pubblicati']\n",
    "journalists"
   ]
  },
  {
   "cell_type": "markdown",
   "id": "5ab4e8a7-e263-40a2-906f-e714a2a1d151",
   "metadata": {},
   "source": [
    "Si conferma quanto riportato nel paragrafo precedente: in questo dataset l'abilità del giornalista non incide sul numero di letture, ma conta solo la quantità di articoli che riesce a pubblicare. "
   ]
  },
  {
   "cell_type": "markdown",
   "id": "f76e5819-b12c-4734-bb52-7e632b433b46",
   "metadata": {
    "jp-MarkdownHeadingCollapsed": true
   },
   "source": [
    "### <span style='color:orange'>Giornalisti con più alto rating"
   ]
  },
  {
   "cell_type": "code",
   "execution_count": 35,
   "id": "d6e90712-72e2-4960-adec-16a38eb00e09",
   "metadata": {},
   "outputs": [
    {
     "data": {
      "text/plain": [
       "journalist_id\n",
       "122    3.462963\n",
       "109    3.294118\n",
       "108    3.289474\n",
       "110    3.200000\n",
       "114    3.187500\n",
       "101    3.163265\n",
       "102    3.147059\n",
       "119    3.130435\n",
       "115    3.113636\n",
       "103    3.050000\n",
       "120    3.024390\n",
       "107    3.022727\n",
       "112    2.981481\n",
       "116    2.930233\n",
       "106    2.906977\n",
       "111    2.875000\n",
       "100    2.857143\n",
       "113    2.836364\n",
       "117    2.750000\n",
       "121    2.657143\n",
       "118    2.605263\n",
       "105    2.513514\n",
       "104    2.511628\n",
       "Name: stars, dtype: float64"
      ]
     },
     "execution_count": 35,
     "metadata": {},
     "output_type": "execute_result"
    }
   ],
   "source": [
    "df.groupby('journalist_id')['stars'].mean().sort_values(ascending=False)"
   ]
  },
  {
   "cell_type": "markdown",
   "id": "c405e5d4-c6e5-4d30-bbe3-91f5a7be2efd",
   "metadata": {},
   "source": [
    "Vediamo che il giornalista 122 è primo in classifica ed è anche il secondo più letto in assoluto, dietro al 113."
   ]
  },
  {
   "cell_type": "markdown",
   "id": "7d973d82-3201-447c-a3b5-9451107176db",
   "metadata": {
    "jp-MarkdownHeadingCollapsed": true
   },
   "source": [
    "### <span style='color:orange'> Giornalisti migliori"
   ]
  },
  {
   "cell_type": "markdown",
   "id": "17a72c5d-581c-4f5a-8db4-b25190edd437",
   "metadata": {},
   "source": [
    "È quindi interessante verificare quale sia il giornalista che riesce a pubblicare il maggior numero di articoli e allo stesso tempo mantenere un alto rating.  \n",
    "Per fare questo calcoliamo il **Quality Index** come segue: $$\\text{Quality Index}: \\frac{\\frac{\\text{Numero di Letture avute}}{\\text{Numero Massimo di Letture avute}} + \\frac{\\text{Rating Ottenuto}}{Rating Massimo Ottenuto}}{2} $$ La divisione per numero di letture massime e rating massimo serve per normalizzare tutti i valori da 0 a 1, così da poterli rendere comparabili.  \n",
    "Visto che il **Quality Index** varierebbe da 0 a 2, il tutto verrà diviso per 2 così da semplificarne la lettura. "
   ]
  },
  {
   "cell_type": "code",
   "execution_count": 36,
   "id": "4f9479b4-82e2-4272-9a44-5bd7f1a43358",
   "metadata": {},
   "outputs": [
    {
     "data": {
      "text/plain": [
       "journalist_id\n",
       "122    0.990909\n",
       "112    0.921390\n",
       "113    0.909528\n",
       "101    0.902183\n",
       "114    0.896591\n",
       "110    0.871123\n",
       "119    0.870170\n",
       "111    0.851471\n",
       "115    0.849562\n",
       "107    0.836437\n",
       "108    0.820405\n",
       "116    0.813991\n",
       "120    0.809404\n",
       "103    0.804011\n",
       "106    0.801542\n",
       "117    0.797059\n",
       "100    0.794347\n",
       "109    0.784712\n",
       "102    0.754388\n",
       "104    0.753551\n",
       "118    0.721616\n",
       "121    0.701833\n",
       "105    0.699277\n",
       "dtype: float64"
      ]
     },
     "execution_count": 36,
     "metadata": {},
     "output_type": "execute_result"
    }
   ],
   "source": [
    "published_max = df['journalist_id'].value_counts().max()\n",
    "published = df.groupby('journalist_id')['article_id'].nunique()/published_max\n",
    "\n",
    "rating_max = df.groupby('journalist_id')['stars'].mean().max()\n",
    "rating = df.groupby('journalist_id')['stars'].mean()/rating_max\n",
    "\n",
    "quality_index = (published+rating)/2\n",
    "quality_index.sort_values(ascending=False)"
   ]
  },
  {
   "cell_type": "markdown",
   "id": "eaabf94d-d612-4f71-a952-da2bbe848b0b",
   "metadata": {},
   "source": [
    "Il giornalista numero **122** è da considerarsi il migliore tra quelli a disposizione"
   ]
  },
  {
   "cell_type": "markdown",
   "id": "b1f4340c-21fa-4684-b594-df74d5a6c491",
   "metadata": {
    "jp-MarkdownHeadingCollapsed": true
   },
   "source": [
    "## <span style = 'color:orange'> Utenti"
   ]
  },
  {
   "cell_type": "markdown",
   "id": "8ae833f4-64b8-4a5e-a102-b0263bc20ddf",
   "metadata": {
    "jp-MarkdownHeadingCollapsed": true
   },
   "source": [
    "### <span style='color:orange'> Utenti più attivi"
   ]
  },
  {
   "cell_type": "markdown",
   "id": "b8dccb61-8795-4b7a-a5b6-a962b7c9736a",
   "metadata": {},
   "source": [
    "Il numero di utenti che hanno letto almeno un articolo dal 2021 in poi è pari a:"
   ]
  },
  {
   "cell_type": "code",
   "execution_count": 37,
   "id": "845f8d30-5c06-4dcd-b783-e8dcd3326134",
   "metadata": {},
   "outputs": [
    {
     "data": {
      "text/plain": [
       "242"
      ]
     },
     "execution_count": 37,
     "metadata": {},
     "output_type": "execute_result"
    }
   ],
   "source": [
    "df['user_uuid'].nunique()"
   ]
  },
  {
   "cell_type": "markdown",
   "id": "5b4bbab8-7d1c-428c-a978-c63cf3f4194e",
   "metadata": {},
   "source": [
    "Vediamo chi sono quelli che hanno letto più articoli:"
   ]
  },
  {
   "cell_type": "code",
   "execution_count": 38,
   "id": "cf00ec50-26dd-4b61-bd97-f2ba45097fb0",
   "metadata": {},
   "outputs": [
    {
     "data": {
      "text/plain": [
       "user_uuid\n",
       "157    12\n",
       "51     10\n",
       "241    10\n",
       "13     10\n",
       "181    10\n",
       "98     10\n",
       "18      9\n",
       "102     9\n",
       "115     9\n",
       "46      8\n",
       "Name: count, dtype: int64"
      ]
     },
     "execution_count": 38,
     "metadata": {},
     "output_type": "execute_result"
    }
   ],
   "source": [
    "df['user_uuid'].value_counts().head(10)"
   ]
  },
  {
   "cell_type": "markdown",
   "id": "f8d33192-5a66-4ac9-bd71-96ab4aed7784",
   "metadata": {},
   "source": [
    "Sappiamo che questi utenti sono i più affezionati al magazine.  \n",
    "Consideriamo solamente gli utenti con almeno 10 letture in totale e vediamo se la loro attività è rimasta elevata anche nel corso del 2023:"
   ]
  },
  {
   "cell_type": "code",
   "execution_count": 39,
   "id": "6d44c40e-8725-404c-a525-e7a258c3947c",
   "metadata": {},
   "outputs": [
    {
     "data": {
      "text/plain": [
       "user_uuid\n",
       "241    10\n",
       "51     10\n",
       "13     10\n",
       "157     6\n",
       "181     2\n",
       "Name: count, dtype: int64"
      ]
     },
     "execution_count": 39,
     "metadata": {},
     "output_type": "execute_result"
    }
   ],
   "source": [
    "df.loc[(df['read_date'] >= '2023-01-01')&(df['user_uuid'].isin([157, 51, 241, 13, 181, 91]))]['user_uuid'].value_counts()"
   ]
  },
  {
   "cell_type": "markdown",
   "id": "33947957-035d-4eca-b7b4-5aeed37a63ff",
   "metadata": {},
   "source": [
    "Gli utenti **241**, **51**, **13** e **157** sono ancora attivi, per cui potrebbe essere interessante proporre loro qualche promozione speciale per far sì che continuino a leggere il magazine. "
   ]
  },
  {
   "cell_type": "markdown",
   "id": "de3256b1-ec7e-4eb1-97dc-d10dea51cd20",
   "metadata": {
    "jp-MarkdownHeadingCollapsed": true
   },
   "source": [
    "### <span style='color:orange'>Fedeltà degli Utenti"
   ]
  },
  {
   "cell_type": "markdown",
   "id": "415fce80-717d-40f8-99ce-5ad89d791e73",
   "metadata": {},
   "source": [
    "Gli utenti iscritti qualche anno fa sono ancora attivi? Iniziamo da chi si è iscritto nel 2020 fino ad arrivare al 2022.  \n",
    "Utilizzeremo un **Fidelity Index** che verrà calcolato nel seguente modo: $$ \\text{Fidelity Index}: \\frac{\\text{Utenti iscritti nell'anno n che hanno letto articoli nel 2023}}{\\text{Utenti iscritti nell'anno n}} $$"
   ]
  },
  {
   "cell_type": "code",
   "execution_count": 40,
   "id": "cbb5589f-372d-4c80-9e40-6c0a57ffacd0",
   "metadata": {},
   "outputs": [
    {
     "name": "stdout",
     "output_type": "stream",
     "text": [
      "Fidelity Index 2020: 0.33\n",
      "Fidelity Index 2021: 0.49\n",
      "Fidelity Index 2022: 1.0\n"
     ]
    }
   ],
   "source": [
    "attivi_2020 = df['read_date'].loc[(df['read_date'] >= '2023-01-01')&(df['subscription_date'] <= '2020-12-31')].count()\n",
    "iscritti_2020 = df['read_date'].loc[df['subscription_date'] <= '2020-12-31'].count()\n",
    "print(f'Fidelity Index 2020: {(attivi_2020/iscritti_2020).round(2)}')\n",
    "\n",
    "attivi_2021 = df['read_date'].loc[(df['read_date'] >= '2023-01-01')&(df['subscription_date'] >= '2020-12-31')&(df['subscription_date'] <= '2021-12-31')].count()\n",
    "iscritti_2021 = df['read_date'].loc[(df['subscription_date'] > '2020-12-31')&(df['subscription_date'] <= '2021-12-31')].count()\n",
    "print(f'Fidelity Index 2021: {(attivi_2021/iscritti_2021).round(2)}')\n",
    "\n",
    "attivi_2022 = df['read_date'].loc[(df['read_date'] >= '2023-01-01')&(df['subscription_date'] > '2021-12-31')&(df['subscription_date'] <= '2022-12-31')].count()\n",
    "iscritti_2022 = df['read_date'].loc[(df['subscription_date'] > '2021-12-31')&(df['subscription_date'] <= '2022-12-31')].count()\n",
    "print(f'Fidelity Index 2022: {(attivi_2022/iscritti_2022).round(2)}')"
   ]
  },
  {
   "cell_type": "markdown",
   "id": "158af520-4574-4d72-9249-28b75b5facb2",
   "metadata": {},
   "source": [
    "Gli utenti del 2022 sono ancora tutti attivi, mentre si assiste a un crollo del 50% circa dopo 2 anni di iscrizione e un'ulteriore diminuzione del 33% circa dopo 3 anni."
   ]
  },
  {
   "cell_type": "markdown",
   "id": "ec294a2a-eb1d-45a9-b9f0-ec6120a34ab1",
   "metadata": {
    "jp-MarkdownHeadingCollapsed": true
   },
   "source": [
    "### <span style='color:orange'>Andamento delle iscrizioni"
   ]
  },
  {
   "cell_type": "markdown",
   "id": "bf40bc34-5bd8-4941-9e05-fb4f70b6dcb3",
   "metadata": {},
   "source": [
    "Vediamo com'è variato il numero di iscrizioni nel tempo.  \n",
    "Calcoliamo un indice di iscrizione che è pari a $$\\text{Indice di iscrizioni} : \\frac{\\text{Numero di iscritti nell'anno n}}{\\text{Numero massimo di iscritti in un anno}} $$"
   ]
  },
  {
   "cell_type": "code",
   "execution_count": 41,
   "id": "72a1bcd6-25f7-436b-bed7-0fb5362a3659",
   "metadata": {},
   "outputs": [],
   "source": [
    "#Calcoliamo il numero di iscritti nel 2023, mentre quelli degli anni precedenti li abbiamo già a seguito delle analisi del paragrafo precedente\n",
    "iscritti_2023 = df['read_date'].loc[(df['subscription_date'] > '2022-12-31')&(df['subscription_date'] <= '2023-12-31')].count()"
   ]
  },
  {
   "cell_type": "code",
   "execution_count": 42,
   "id": "be1c955a-dafb-4ec8-b95c-c994447dcff0",
   "metadata": {},
   "outputs": [
    {
     "name": "stdout",
     "output_type": "stream",
     "text": [
      "Numero di iscritti 2020: 0.87\n",
      "Numero di iscritti 2021: 1.0\n",
      "Numero di iscritti 2022: 0.94\n",
      "Numero di iscritti 2023: 0.0\n"
     ]
    }
   ],
   "source": [
    "print(f'Numero di iscritti 2020: {(iscritti_2020/max(iscritti_2020, iscritti_2021, iscritti_2022, iscritti_2023)).round(2)}')\n",
    "print(f'Numero di iscritti 2021: {(iscritti_2021/max(iscritti_2020, iscritti_2021, iscritti_2022, iscritti_2023)).round(2)}')\n",
    "print(f'Numero di iscritti 2022: {(iscritti_2022/max(iscritti_2020, iscritti_2021, iscritti_2022, iscritti_2023)).round(2)}')\n",
    "print(f'Numero di iscritti 2023: {(iscritti_2023/max(iscritti_2020, iscritti_2021, iscritti_2022, iscritti_2023)).round(2)}')"
   ]
  },
  {
   "cell_type": "markdown",
   "id": "852d71e0-e77a-405a-b936-174f916d348f",
   "metadata": {},
   "source": [
    "Non si assiste a un'ampia variazione di iscritti tra i vari anni, a parte il 2023 che non ne ha affatto.  \n",
    "In ogni caso, l'anno migliore è stato il 2021. "
   ]
  },
  {
   "cell_type": "markdown",
   "id": "9ec991a3-9d3d-49fb-9d07-c3ecc6d1f349",
   "metadata": {
    "jp-MarkdownHeadingCollapsed": true
   },
   "source": [
    "## <span style='color:orange'>Lingue"
   ]
  },
  {
   "cell_type": "markdown",
   "id": "ee2ceeca-96a9-41c4-b13a-f4acac2041cc",
   "metadata": {},
   "source": [
    "Cerchiamo di capire quali siano le lingue con più articoli pubblicati e che abbiano anche un rating migliore: "
   ]
  },
  {
   "cell_type": "code",
   "execution_count": 43,
   "id": "849040ae-f85c-4bed-960e-30b0d22f0b39",
   "metadata": {},
   "outputs": [
    {
     "data": {
      "text/html": [
       "<div>\n",
       "<style scoped>\n",
       "    .dataframe tbody tr th:only-of-type {\n",
       "        vertical-align: middle;\n",
       "    }\n",
       "\n",
       "    .dataframe tbody tr th {\n",
       "        vertical-align: top;\n",
       "    }\n",
       "\n",
       "    .dataframe thead th {\n",
       "        text-align: right;\n",
       "    }\n",
       "</style>\n",
       "<table border=\"1\" class=\"dataframe\">\n",
       "  <thead>\n",
       "    <tr style=\"text-align: right;\">\n",
       "      <th></th>\n",
       "      <th>numero di articoli</th>\n",
       "      <th>rating medio</th>\n",
       "    </tr>\n",
       "    <tr>\n",
       "      <th>language</th>\n",
       "      <th></th>\n",
       "      <th></th>\n",
       "    </tr>\n",
       "  </thead>\n",
       "  <tbody>\n",
       "    <tr>\n",
       "      <th>it</th>\n",
       "      <td>462</td>\n",
       "      <td>2.935065</td>\n",
       "    </tr>\n",
       "    <tr>\n",
       "      <th>en</th>\n",
       "      <td>318</td>\n",
       "      <td>3.050314</td>\n",
       "    </tr>\n",
       "    <tr>\n",
       "      <th>fr</th>\n",
       "      <td>219</td>\n",
       "      <td>3.000000</td>\n",
       "    </tr>\n",
       "  </tbody>\n",
       "</table>\n",
       "</div>"
      ],
      "text/plain": [
       "          numero di articoli  rating medio\n",
       "language                                  \n",
       "it                       462      2.935065\n",
       "en                       318      3.050314\n",
       "fr                       219      3.000000"
      ]
     },
     "execution_count": 43,
     "metadata": {},
     "output_type": "execute_result"
    }
   ],
   "source": [
    "lang_articoli = df['language'].value_counts()\n",
    "lang_rating = df.groupby('language')['stars'].mean()\n",
    "language = pd.DataFrame({'numero di articoli': lang_articoli, 'rating medio': lang_rating})\n",
    "language.sort_values(by='numero di articoli', ascending=False)"
   ]
  },
  {
   "cell_type": "markdown",
   "id": "ced1ad92-de1b-4afa-857f-3ebfac08788a",
   "metadata": {},
   "source": [
    "Il rating rimane più o meno sempre quello, mentre la lingua di gran lunga più pubblicata è l'italiano.  \n",
    "Dato che il rating rimane sempre uguale e che la quantità di articoli praticamente coincide con la quantità di letture, sembra che non ci sia una lingua da preferire rispetto alle altre. "
   ]
  },
  {
   "cell_type": "markdown",
   "id": "8adb8c31-4397-4a18-828c-b478d20dccf2",
   "metadata": {
    "jp-MarkdownHeadingCollapsed": true
   },
   "source": [
    "## <span style='color:orange'> Device"
   ]
  },
  {
   "cell_type": "markdown",
   "id": "68281c0c-f3b5-4c12-93d0-c21df045f887",
   "metadata": {},
   "source": [
    "Vediamo quali sono i device utilizzati:"
   ]
  },
  {
   "cell_type": "code",
   "execution_count": 44,
   "id": "b38fc809-4670-47a5-b320-087bfc6c6905",
   "metadata": {},
   "outputs": [
    {
     "data": {
      "text/plain": [
       "array(['tablet', 'mobile', 'pc'], dtype=object)"
      ]
     },
     "execution_count": 44,
     "metadata": {},
     "output_type": "execute_result"
    }
   ],
   "source": [
    "df['platform'].unique()"
   ]
  },
  {
   "cell_type": "markdown",
   "id": "f7a4902c-2b99-42bf-9e5b-6d0dff254cc6",
   "metadata": {},
   "source": [
    "Cambia la lunghezza di un articolo che si legge a seconda del device che si usa?  "
   ]
  },
  {
   "cell_type": "code",
   "execution_count": 45,
   "id": "b15933fc-2a17-460f-b143-227954b6ae67",
   "metadata": {},
   "outputs": [
    {
     "data": {
      "text/html": [
       "<div>\n",
       "<style scoped>\n",
       "    .dataframe tbody tr th:only-of-type {\n",
       "        vertical-align: middle;\n",
       "    }\n",
       "\n",
       "    .dataframe tbody tr th {\n",
       "        vertical-align: top;\n",
       "    }\n",
       "\n",
       "    .dataframe thead th {\n",
       "        text-align: right;\n",
       "    }\n",
       "</style>\n",
       "<table border=\"1\" class=\"dataframe\">\n",
       "  <thead>\n",
       "    <tr style=\"text-align: right;\">\n",
       "      <th></th>\n",
       "      <th>pc</th>\n",
       "      <th>tablet</th>\n",
       "      <th>smartphone</th>\n",
       "    </tr>\n",
       "    <tr>\n",
       "      <th>length</th>\n",
       "      <th></th>\n",
       "      <th></th>\n",
       "      <th></th>\n",
       "    </tr>\n",
       "  </thead>\n",
       "  <tbody>\n",
       "    <tr>\n",
       "      <th>long</th>\n",
       "      <td>0.319347</td>\n",
       "      <td>0.461538</td>\n",
       "      <td>0.219114</td>\n",
       "    </tr>\n",
       "    <tr>\n",
       "      <th>medium</th>\n",
       "      <td>0.352423</td>\n",
       "      <td>0.405286</td>\n",
       "      <td>0.242291</td>\n",
       "    </tr>\n",
       "    <tr>\n",
       "      <th>short</th>\n",
       "      <td>0.355685</td>\n",
       "      <td>0.390671</td>\n",
       "      <td>0.253644</td>\n",
       "    </tr>\n",
       "  </tbody>\n",
       "</table>\n",
       "</div>"
      ],
      "text/plain": [
       "              pc    tablet  smartphone\n",
       "length                                \n",
       "long    0.319347  0.461538    0.219114\n",
       "medium  0.352423  0.405286    0.242291\n",
       "short   0.355685  0.390671    0.253644"
      ]
     },
     "execution_count": 45,
     "metadata": {},
     "output_type": "execute_result"
    }
   ],
   "source": [
    "pc = df[df['platform'] == 'pc'].groupby('length')['platform'].count()/df.groupby('length')['platform'].count()\n",
    "tablet = df[df['platform'] == 'tablet'].groupby('length')['platform'].count()/df.groupby('length')['platform'].count()\n",
    "smartphone = df[df['platform'] == 'mobile'].groupby('length')['platform'].count()/df.groupby('length')['platform'].count()\n",
    "device = pd.DataFrame({'pc': pc, 'tablet': tablet, 'smartphone': smartphone})\n",
    "device"
   ]
  },
  {
   "cell_type": "markdown",
   "id": "0e35f4e4-a3b4-4188-8ac5-b29d3f67f9f9",
   "metadata": {},
   "source": [
    "La tabella riporta la frequenza relativa di utilizzo dei device per ciascuna lunghezza di articolo.  \n",
    "Guardando alle variazioni percentuali, si nota che i tablet sono particolarmente utilizzati quando si ha a che fare con articoli lunghi (46% contro 40% medio), mentre pc e smartphone vengono utilizzati indistintamente per articoli medi e corti.  \n",
    "A livello globale, si conferma una preferenza dei tablet da parte degli utenti. "
   ]
  },
  {
   "cell_type": "markdown",
   "id": "6181ca1c-1fcf-4f86-a462-07ecbfe72622",
   "metadata": {},
   "source": [
    "---"
   ]
  },
  {
   "cell_type": "markdown",
   "id": "8f532f22-a13e-405c-8e70-8624e3a64602",
   "metadata": {},
   "source": [
    "Il device con cui si legge cambia a seconda della tematica? Proviamo a capirlo:"
   ]
  },
  {
   "cell_type": "code",
   "execution_count": 46,
   "id": "bb2e09bd-5edf-413a-859c-83891ec31bc4",
   "metadata": {},
   "outputs": [
    {
     "data": {
      "text/html": [
       "<div>\n",
       "<style scoped>\n",
       "    .dataframe tbody tr th:only-of-type {\n",
       "        vertical-align: middle;\n",
       "    }\n",
       "\n",
       "    .dataframe tbody tr th {\n",
       "        vertical-align: top;\n",
       "    }\n",
       "\n",
       "    .dataframe thead th {\n",
       "        text-align: right;\n",
       "    }\n",
       "</style>\n",
       "<table border=\"1\" class=\"dataframe\">\n",
       "  <thead>\n",
       "    <tr style=\"text-align: right;\">\n",
       "      <th></th>\n",
       "      <th>pc</th>\n",
       "      <th>tablet</th>\n",
       "      <th>smartphone</th>\n",
       "    </tr>\n",
       "    <tr>\n",
       "      <th>category</th>\n",
       "      <th></th>\n",
       "      <th></th>\n",
       "      <th></th>\n",
       "    </tr>\n",
       "  </thead>\n",
       "  <tbody>\n",
       "    <tr>\n",
       "      <th>art</th>\n",
       "      <td>0.295082</td>\n",
       "      <td>0.426230</td>\n",
       "      <td>0.278689</td>\n",
       "    </tr>\n",
       "    <tr>\n",
       "      <th>economy</th>\n",
       "      <td>0.360360</td>\n",
       "      <td>0.414414</td>\n",
       "      <td>0.225225</td>\n",
       "    </tr>\n",
       "    <tr>\n",
       "      <th>finance</th>\n",
       "      <td>0.380597</td>\n",
       "      <td>0.365672</td>\n",
       "      <td>0.253731</td>\n",
       "    </tr>\n",
       "    <tr>\n",
       "      <th>lifestyle</th>\n",
       "      <td>0.368421</td>\n",
       "      <td>0.421053</td>\n",
       "      <td>0.210526</td>\n",
       "    </tr>\n",
       "    <tr>\n",
       "      <th>news</th>\n",
       "      <td>0.380952</td>\n",
       "      <td>0.428571</td>\n",
       "      <td>0.190476</td>\n",
       "    </tr>\n",
       "    <tr>\n",
       "      <th>sport</th>\n",
       "      <td>0.319372</td>\n",
       "      <td>0.460733</td>\n",
       "      <td>0.219895</td>\n",
       "    </tr>\n",
       "    <tr>\n",
       "      <th>weather</th>\n",
       "      <td>0.314642</td>\n",
       "      <td>0.429907</td>\n",
       "      <td>0.255452</td>\n",
       "    </tr>\n",
       "  </tbody>\n",
       "</table>\n",
       "</div>"
      ],
      "text/plain": [
       "                 pc    tablet  smartphone\n",
       "category                                 \n",
       "art        0.295082  0.426230    0.278689\n",
       "economy    0.360360  0.414414    0.225225\n",
       "finance    0.380597  0.365672    0.253731\n",
       "lifestyle  0.368421  0.421053    0.210526\n",
       "news       0.380952  0.428571    0.190476\n",
       "sport      0.319372  0.460733    0.219895\n",
       "weather    0.314642  0.429907    0.255452"
      ]
     },
     "execution_count": 46,
     "metadata": {},
     "output_type": "execute_result"
    }
   ],
   "source": [
    "pc = df[df['platform'] == 'pc'].groupby('category')['platform'].count()/df.groupby('category')['platform'].count()\n",
    "tablet = df[df['platform'] == 'tablet'].groupby('category')['platform'].count()/df.groupby('category')['platform'].count()\n",
    "smartphone = df[df['platform'] == 'mobile'].groupby('category')['platform'].count()/df.groupby('category')['platform'].count()\n",
    "device = pd.DataFrame({'pc': pc, 'tablet': tablet, 'smartphone': smartphone})\n",
    "device"
   ]
  },
  {
   "cell_type": "markdown",
   "id": "6076bc70-510f-4b60-8df4-da4358c0b5a9",
   "metadata": {},
   "source": [
    "- Il pc è particolarmente utilizzato per le tematiche *finance* e *news*\n",
    "- Il tablet viene usato con lo *sport*\n",
    "- Lo smartphone è preferito per *arte* e *meteo*"
   ]
  },
  {
   "cell_type": "markdown",
   "id": "92efb6b1-187c-4d70-8aba-38448afd392c",
   "metadata": {
    "jp-MarkdownHeadingCollapsed": true
   },
   "source": [
    "# <span style = 'color:orange'>Preparazione dei file per Tableau"
   ]
  },
  {
   "cell_type": "markdown",
   "id": "09f8340c-3559-451d-ab49-71b3c968bcd5",
   "metadata": {},
   "source": [
    "Esportiamo due DataFrame in un file Excel così da poterli usare in Tableau."
   ]
  },
  {
   "cell_type": "markdown",
   "id": "58e7022b-9a9b-4803-b7c3-2b0249059b52",
   "metadata": {},
   "source": [
    "Il primo è il DataFrame base **df**."
   ]
  },
  {
   "cell_type": "markdown",
   "id": "cdb6bb06-99b7-4178-ad05-5ffb66ebae55",
   "metadata": {},
   "source": [
    "Il secondo contiene gli ID dei giornalisti e le loro rispettive statistiche, tra cui anche il *quality index*:"
   ]
  },
  {
   "cell_type": "code",
   "execution_count": 47,
   "id": "c9fbc6a1-9974-4c14-97be-b557a304c2ec",
   "metadata": {},
   "outputs": [],
   "source": [
    "published_max = df['journalist_id'].value_counts().max()\n",
    "published = df.groupby('journalist_id')['article_id'].nunique()\n",
    "published_rel = df.groupby('journalist_id')['article_id'].nunique()/published_max\n",
    "\n",
    "rating_max = df.groupby('journalist_id')['stars'].mean().max()\n",
    "rating = df.groupby('journalist_id')['stars'].mean()\n",
    "rating_rel = df.groupby('journalist_id')['stars'].mean()/rating_max\n",
    "\n",
    "quality_index = (published_rel+rating_rel)/2\n",
    "quality_index.sort_values(ascending=False)\n",
    "\n",
    "giornalisti = pd.DataFrame({'journalist_id':quality_index.index, \n",
    "                            'rating medio': rating, \n",
    "                            'rating medio relativo': rating_rel, \n",
    "                            'numero di pubblicazioni': published, \n",
    "                            'numero di pubblicazioni relative': published_rel, \n",
    "                            'quality index': quality_index})"
   ]
  },
  {
   "cell_type": "markdown",
   "id": "deed6c22-b06c-4d7d-b700-1f31d0a94d9f",
   "metadata": {},
   "source": [
    "Procediamo a esportare:"
   ]
  },
  {
   "cell_type": "code",
   "execution_count": 48,
   "id": "fd264540-bf88-47bd-b78b-1fba681aba03",
   "metadata": {},
   "outputs": [],
   "source": [
    "with pd.ExcelWriter('Base Dati.xlsx') as writer:  \n",
    "    df.to_excel(writer, sheet_name='Base Dati')\n",
    "    giornalisti.to_excel(writer, sheet_name='Giornalisti')"
   ]
  },
  {
   "cell_type": "markdown",
   "id": "c6f6e141-ef64-408b-bbfd-088c61e16ecd",
   "metadata": {},
   "source": [
    "Esportiamo poi in un file separato anche il Fidelity Index degli utenti: "
   ]
  },
  {
   "cell_type": "code",
   "execution_count": 57,
   "id": "8f2de5a5-f02a-47c2-b433-986ec2362a47",
   "metadata": {},
   "outputs": [],
   "source": [
    "attivi_2020 = df['read_date'].loc[(df['read_date'] >= '2023-01-01')&(df['subscription_date'] <= '2020-12-31')].count()\n",
    "iscritti_2020 = df['read_date'].loc[df['subscription_date'] <= '2020-12-31'].count()\n",
    "fidelity_index_2020 = attivi_2020/iscritti_2020.round(2)\n",
    "\n",
    "attivi_2021 = df['read_date'].loc[(df['read_date'] >= '2023-01-01')&(df['subscription_date'] >= '2020-12-31')&(df['subscription_date'] <= '2021-12-31')].count()\n",
    "iscritti_2021 = df['read_date'].loc[(df['subscription_date'] > '2020-12-31')&(df['subscription_date'] <= '2021-12-31')].count()\n",
    "fidelity_index_2021 = attivi_2021/iscritti_2021.round(2)\n",
    "\n",
    "attivi_2022 = df['read_date'].loc[(df['read_date'] >= '2023-01-01')&(df['subscription_date'] > '2021-12-31')&(df['subscription_date'] <= '2022-12-31')].count()\n",
    "iscritti_2022 = df['read_date'].loc[(df['subscription_date'] > '2021-12-31')&(df['subscription_date'] <= '2022-12-31')].count()\n",
    "fidelity_index_2022 = attivi_2022/iscritti_2022.round(2)\n",
    "\n",
    "users = pd.DataFrame({'anno': [2020, 2021, 2022], 'fidelity_index': [fidelity_index_2020, fidelity_index_2021, fidelity_index_2022]})"
   ]
  },
  {
   "cell_type": "code",
   "execution_count": 58,
   "id": "45890337-182c-4a57-a454-ce637eaaebf0",
   "metadata": {},
   "outputs": [],
   "source": [
    "users.to_excel('Users.xlsx', sheet_name='Users')"
   ]
  },
  {
   "cell_type": "markdown",
   "id": "9e43b0ab-1393-4102-bafd-9e4690249dda",
   "metadata": {
    "jp-MarkdownHeadingCollapsed": true
   },
   "source": [
    "# <span style = 'color:orange'> Conclusioni"
   ]
  },
  {
   "cell_type": "markdown",
   "id": "6fc180ee-2926-44cf-9d96-e7caae0681a1",
   "metadata": {
    "jp-MarkdownHeadingCollapsed": true
   },
   "source": [
    "## <span style = 'color:orange'>Letture"
   ]
  },
  {
   "cell_type": "markdown",
   "id": "6128b309-0984-4fc6-aa6f-33c5c6cc21f6",
   "metadata": {},
   "source": [
    "Il numero di articoli pubblicati è quasi uguale al numero di letture che sono state registrate nel dataset:"
   ]
  },
  {
   "cell_type": "code",
   "execution_count": 49,
   "id": "09085492-950d-4a06-8a4c-a85b502c0015",
   "metadata": {
    "jupyter": {
     "source_hidden": true
    }
   },
   "outputs": [
    {
     "name": "stdout",
     "output_type": "stream",
     "text": [
      "Numero di Letture Registrate: 999\n",
      "Numero di Articoli Pubblicati: 987\n"
     ]
    }
   ],
   "source": [
    "print(f'Numero di Letture Registrate: {df['read_date'].count()}')\n",
    "print(f'Numero di Articoli Pubblicati: {df['article_id'].nunique()}')"
   ]
  },
  {
   "cell_type": "markdown",
   "id": "5d97d20e-2c11-460b-859f-861af69037a0",
   "metadata": {},
   "source": [
    "e in particolare, ogni articolo è stato letto una volta sola nella maggior parte dei casi, in rari casi 2 e in un solo caso 3: "
   ]
  },
  {
   "cell_type": "code",
   "execution_count": 50,
   "id": "b5ad3ac9-6614-428e-bc95-8003887e05ea",
   "metadata": {
    "jupyter": {
     "source_hidden": true
    }
   },
   "outputs": [
    {
     "name": "stdout",
     "output_type": "stream",
     "text": [
      "Numero di articoli letti 1 volta: 976\n",
      "Numero di articoli letti 2 volte: 10\n",
      "Numero di articoli letti 3 volte: 1\n"
     ]
    }
   ],
   "source": [
    "conteggio = df['article_id'].value_counts()\n",
    "conteggio_1 = conteggio[conteggio == 1].count()\n",
    "conteggio_2 = conteggio[conteggio == 2].count()\n",
    "conteggio_3 = conteggio[conteggio == 3].count()\n",
    "print(f'Numero di articoli letti 1 volta: {conteggio_1}')\n",
    "print(f'Numero di articoli letti 2 volte: {conteggio_2}')\n",
    "print(f'Numero di articoli letti 3 volte: {conteggio_3}')"
   ]
  },
  {
   "cell_type": "markdown",
   "id": "e0a16fd5-7e2b-424d-aecc-6cc9505962d6",
   "metadata": {},
   "source": [
    "Non c'è quindi un articolo che è stato letto di più, né una categoria preferita dagli utenti. "
   ]
  },
  {
   "cell_type": "markdown",
   "id": "4257de56-2280-4a86-ba86-de5f84933c61",
   "metadata": {},
   "source": [
    "Si vede una leggera discrepanza nel numero delle letture nel corso della settimana:"
   ]
  },
  {
   "cell_type": "code",
   "execution_count": 51,
   "id": "2cf3cff8-c7d1-41db-994e-5d0de89d73e4",
   "metadata": {
    "jupyter": {
     "source_hidden": true
    }
   },
   "outputs": [
    {
     "name": "stdout",
     "output_type": "stream",
     "text": [
      "Letture di Lunedì: 146\n",
      "Letture di Martedì: 128\n",
      "Letture di Mercoledì: 159\n",
      "Letture di Giovedì: 143\n",
      "Letture di Venerdì: 138\n",
      "Letture di Sabato: 149\n",
      "Letture di Domenica: 136\n"
     ]
    }
   ],
   "source": [
    "dayofweek = df['read_date'].dt.dayofweek.value_counts().sort_index()\n",
    "print(f'Letture di Lunedì: {dayofweek.iloc[0]}')\n",
    "print(f'Letture di Martedì: {dayofweek.iloc[1]}')\n",
    "print(f'Letture di Mercoledì: {dayofweek.iloc[2]}')\n",
    "print(f'Letture di Giovedì: {dayofweek.iloc[3]}')\n",
    "print(f'Letture di Venerdì: {dayofweek.iloc[4]}')\n",
    "print(f'Letture di Sabato: {dayofweek.iloc[5]}')\n",
    "print(f'Letture di Domenica: {dayofweek.iloc[6]}')"
   ]
  },
  {
   "cell_type": "markdown",
   "id": "b6110b9c-4cf0-47de-9d60-ecdac7266b27",
   "metadata": {},
   "source": [
    "Può essere quindi meglio pubblicare dei nuovi articoli di mercoledì, sabato o lunedì ed evitare il martedì e la domenica"
   ]
  },
  {
   "cell_type": "markdown",
   "id": "56f4619d-16c5-4226-b800-ffee045479c3",
   "metadata": {
    "jp-MarkdownHeadingCollapsed": true
   },
   "source": [
    "## <span style = 'color:orange'>Categorie"
   ]
  },
  {
   "cell_type": "markdown",
   "id": "d3f7673e-7994-4dc1-b949-8047f494bc09",
   "metadata": {},
   "source": [
    "Non ha senso parlare di categorie più lette, visto che ogni articolo viene letto una volta sola: più una categoria viene pubblicata e più viene letta. "
   ]
  },
  {
   "cell_type": "markdown",
   "id": "1fefdebc-7eb3-4fea-a448-30268ef880fb",
   "metadata": {},
   "source": [
    "Ha senso invece considerare quali siano i rating medi ottenuti nelle diverse categorie:"
   ]
  },
  {
   "cell_type": "code",
   "execution_count": 52,
   "id": "a46e7584-034a-41ab-a80e-fa74332a5f60",
   "metadata": {
    "jupyter": {
     "source_hidden": true
    }
   },
   "outputs": [
    {
     "name": "stdout",
     "output_type": "stream",
     "text": [
      "Rating medio di Sport: 2.78\n",
      "Rating medio di Finanza: 2.87\n",
      "Rating medio di Economia: 3.0\n",
      "Rating medio di Meteo: 3.0\n",
      "Rating medio di LifeStyle: 3.16\n",
      "Rating medio di Arte: 3.18\n",
      "Rating medio di Cronaca: 3.21\n"
     ]
    }
   ],
   "source": [
    "rating = df.groupby('category')['stars'].mean().sort_values()\n",
    "print(f'Rating medio di Sport: {rating.iloc[0].round(2)}')\n",
    "print(f'Rating medio di Finanza: {rating.iloc[1].round(2)}')\n",
    "print(f'Rating medio di Economia: {rating.iloc[2].round(2)}')\n",
    "print(f'Rating medio di Meteo: {rating.iloc[3].round(2)}')\n",
    "print(f'Rating medio di LifeStyle: {rating.iloc[4].round(2)}')\n",
    "print(f'Rating medio di Arte: {rating.iloc[5].round(2)}')\n",
    "print(f'Rating medio di Cronaca: {rating.iloc[6].round(2)}')"
   ]
  },
  {
   "cell_type": "markdown",
   "id": "0b2318be-f454-4a5f-a035-84ebd8968756",
   "metadata": {},
   "source": [
    "Sulla base di questi dati, è consigliabile puntare maggiormente su **Cronaca**, **Arte** e **LifeStyle** "
   ]
  },
  {
   "cell_type": "markdown",
   "id": "e702f04a-558d-4fca-914e-0d4d37448c59",
   "metadata": {
    "jp-MarkdownHeadingCollapsed": true
   },
   "source": [
    "## <span style = 'color:orange'>Giornalisti"
   ]
  },
  {
   "cell_type": "markdown",
   "id": "852aab55-ab38-4746-b086-65a636cd0244",
   "metadata": {},
   "source": [
    "Per capire quali siano i migliori giornalisti a disposizione, cerchiamo tra quelli che abbiano un maggior rating possibile e allo stesso tempo facciano tante pubblicazioni.  \n",
    "Questa ricerca verrà svolta attraverso il seguente indice e cerchiamo i giornalisti col valore più vicino a 1 possibile: $$\\text{Quality Index}: \\frac{\\frac{\\text{Numero di Letture avute}}{\\text{Numero Massimo di Letture avute}} + \\frac{\\text{Rating Ottenuto}}{Rating Massimo Ottenuto}}{2} $$ "
   ]
  },
  {
   "cell_type": "code",
   "execution_count": 53,
   "id": "b2051634-71cf-40ea-ac6d-3b20ca64c635",
   "metadata": {
    "jupyter": {
     "source_hidden": true
    }
   },
   "outputs": [
    {
     "data": {
      "text/plain": [
       "journalist_id\n",
       "122    0.990909\n",
       "112    0.921390\n",
       "113    0.909528\n",
       "101    0.902183\n",
       "114    0.896591\n",
       "110    0.871123\n",
       "119    0.870170\n",
       "111    0.851471\n",
       "115    0.849562\n",
       "107    0.836437\n",
       "108    0.820405\n",
       "116    0.813991\n",
       "120    0.809404\n",
       "103    0.804011\n",
       "106    0.801542\n",
       "117    0.797059\n",
       "100    0.794347\n",
       "109    0.784712\n",
       "102    0.754388\n",
       "104    0.753551\n",
       "118    0.721616\n",
       "121    0.701833\n",
       "105    0.699277\n",
       "dtype: float64"
      ]
     },
     "execution_count": 53,
     "metadata": {},
     "output_type": "execute_result"
    }
   ],
   "source": [
    "published_max = df['journalist_id'].value_counts().max()\n",
    "published = df.groupby('journalist_id')['article_id'].nunique()/published_max\n",
    "\n",
    "rating_max = df.groupby('journalist_id')['stars'].mean().max()\n",
    "rating = df.groupby('journalist_id')['stars'].mean()/rating_max\n",
    "\n",
    "quality_index = (published+rating)/2\n",
    "quality_index.sort_values(ascending=False)"
   ]
  },
  {
   "cell_type": "markdown",
   "id": "6265645a-59d9-4d07-98a7-cbd59656eb8b",
   "metadata": {},
   "source": [
    "Il giornalista numero **122** è da considerarsi il migliore tra quelli a disposizione e a seguire nella tabella ci sono gli altri."
   ]
  },
  {
   "cell_type": "markdown",
   "id": "5ada70c6-c779-4eaf-a69e-746285decbd0",
   "metadata": {
    "jp-MarkdownHeadingCollapsed": true
   },
   "source": [
    "## <span style = 'color:orange'>Utenti"
   ]
  },
  {
   "cell_type": "markdown",
   "id": "2dbf9ed1-33be-4ffa-a520-bdac1dbe34b1",
   "metadata": {},
   "source": [
    "Nell'anno 2023 i seguenti utenti si sono rivelati i più attivi:"
   ]
  },
  {
   "cell_type": "code",
   "execution_count": 54,
   "id": "7b950e93-5aef-4962-911d-7c5ab0657528",
   "metadata": {
    "jupyter": {
     "source_hidden": true
    }
   },
   "outputs": [
    {
     "data": {
      "text/plain": [
       "user_uuid\n",
       "241    10\n",
       "51     10\n",
       "13     10\n",
       "157     6\n",
       "181     2\n",
       "Name: count, dtype: int64"
      ]
     },
     "execution_count": 54,
     "metadata": {},
     "output_type": "execute_result"
    }
   ],
   "source": [
    "df.loc[(df['read_date'] >= '2023-01-01')&(df['user_uuid'].isin([157, 51, 241, 13, 181, 91]))]['user_uuid'].value_counts()"
   ]
  },
  {
   "cell_type": "markdown",
   "id": "3b7a4d46-b6cc-4b5a-951e-769d7a351801",
   "metadata": {},
   "source": [
    "Potrebbe essere interessante proporre agli utenti **241**, **51**, **13** e **157** qualche promozione speciale per far sì che aumentino ancora la fidelizzazione al magazine. "
   ]
  },
  {
   "cell_type": "markdown",
   "id": "5b604960-f8d3-46e6-a17e-6fc6a2784b31",
   "metadata": {},
   "source": [
    "Osservando invece l'attività nel 2023 degli utenti che si sono iscritti negli anni precedenti, possiamo calcolare questo indice: $$ \\text{Fidelity Index}: \\frac{\\text{Utenti iscritti nell'anno n che hanno letto articoli nel 2023}}{\\text{Utenti iscritti nell'anno n}} $$"
   ]
  },
  {
   "cell_type": "code",
   "execution_count": 55,
   "id": "4ef58efc-5739-4d06-86cb-ad027aaad250",
   "metadata": {
    "jupyter": {
     "source_hidden": true
    }
   },
   "outputs": [
    {
     "name": "stdout",
     "output_type": "stream",
     "text": [
      "Fidelity Index 2020: 0.33\n",
      "Fidelity Index 2021: 0.49\n",
      "Fidelity Index 2022: 1.0\n"
     ]
    }
   ],
   "source": [
    "attivi_2020 = df['read_date'].loc[(df['read_date'] >= '2023-01-01')&(df['subscription_date'] <= '2020-12-31')].count()\n",
    "iscritti_2020 = df['read_date'].loc[df['subscription_date'] <= '2020-12-31'].count()\n",
    "print(f'Fidelity Index 2020: {(attivi_2020/iscritti_2020).round(2)}')\n",
    "\n",
    "attivi_2021 = df['read_date'].loc[(df['read_date'] >= '2023-01-01')&(df['subscription_date'] >= '2020-12-31')&(df['subscription_date'] <= '2021-12-31')].count()\n",
    "iscritti_2021 = df['read_date'].loc[(df['subscription_date'] > '2020-12-31')&(df['subscription_date'] <= '2021-12-31')].count()\n",
    "print(f'Fidelity Index 2021: {(attivi_2021/iscritti_2021).round(2)}')\n",
    "\n",
    "attivi_2022 = df['read_date'].loc[(df['read_date'] >= '2023-01-01')&(df['subscription_date'] > '2021-12-31')&(df['subscription_date'] <= '2022-12-31')].count()\n",
    "iscritti_2022 = df['read_date'].loc[(df['subscription_date'] > '2021-12-31')&(df['subscription_date'] <= '2022-12-31')].count()\n",
    "print(f'Fidelity Index 2022: {(attivi_2022/iscritti_2022).round(2)}')"
   ]
  },
  {
   "cell_type": "markdown",
   "id": "61f530b0-3386-4579-b3bc-48739ed0f250",
   "metadata": {},
   "source": [
    "Si vede come gli utenti iscritti nel 2022 siano ancora tutti attivi, mentre ci sia una caduta del 50% per quelli del 2021 e di un ulteriore 33% per il 2021.  \n",
    "È consigliabile pensare a qualche offerta o promozione per chi si è iscritto nel 2022 in modo che nel corso del 2024 non abbandoni il magazine.  \n",
    "Allo stesso modo, per chi non è più attivo è da prevedere un'offerta temporanea a un prezzo speciale, di modo che sia interessato a ritornare a leggere il magazine."
   ]
  },
  {
   "cell_type": "markdown",
   "id": "180fb60a-cc3f-4f69-978c-9cc3c875ced4",
   "metadata": {
    "jp-MarkdownHeadingCollapsed": true
   },
   "source": [
    "## <span style = 'color:orange'>Device"
   ]
  },
  {
   "cell_type": "code",
   "execution_count": 56,
   "id": "be067244-90bd-4523-b6b4-aa1ee3e17df8",
   "metadata": {
    "jupyter": {
     "source_hidden": true
    }
   },
   "outputs": [
    {
     "name": "stdout",
     "output_type": "stream",
     "text": [
      "Articoli letti tramite Tablet: 424\n",
      "Articoli letti tramite PC: 339\n",
      "Articoli letti tramite Smartphone: 236\n"
     ]
    }
   ],
   "source": [
    "device = df['platform'].value_counts()\n",
    "print(f'Articoli letti tramite Tablet: {device.iloc[0]}')\n",
    "print(f'Articoli letti tramite PC: {device.iloc[1]}')\n",
    "print(f'Articoli letti tramite Smartphone: {device.iloc[2]}')"
   ]
  },
  {
   "cell_type": "markdown",
   "id": "307053a9-e479-4d98-b5a2-1bb176bb2884",
   "metadata": {},
   "source": [
    "Si vede che c'è una predominanza di articoli letti da Tablet, per cui eventuali fondi allo sviluppo web andrebbero anzitutto destinati alla versione tablet del sito. "
   ]
  },
  {
   "cell_type": "markdown",
   "id": "f843d25d-c3b4-47db-b10e-7e61bc23c416",
   "metadata": {
    "jp-MarkdownHeadingCollapsed": true
   },
   "source": [
    "## <span style = 'color:orange'>Suggerimento su una strategia"
   ]
  },
  {
   "cell_type": "markdown",
   "id": "15594305-cb4b-4311-bd5d-79b49c1ad633",
   "metadata": {
    "jp-MarkdownHeadingCollapsed": true
   },
   "source": [
    "### <span style='color:orange'>Pubblicazioni"
   ]
  },
  {
   "cell_type": "markdown",
   "id": "e5cca576-4c2b-4b8a-b246-3430141e7ebe",
   "metadata": {},
   "source": [
    "È consigliabile focalizzare le proprie pubblicazioni durante i giorni di *lunedì*, *mercoledì* e *sabato*, così da avere una maggior probabilità di essere lette dagli utenti.  \n",
    "Questi articoli si dovranno focalizzare maggiormente su temi di *cronaca* e di *arte* e dovrebbero essere preferibilmente scritti dai giornalisti *122*, *112*, *113* e *101*, a cui spetterà anche una promozione e/o un aumento per evitare che lascino il magazine."
   ]
  },
  {
   "cell_type": "markdown",
   "id": "3f3ea0f3-9b25-4a44-bca5-30c2692343d0",
   "metadata": {
    "jp-MarkdownHeadingCollapsed": true
   },
   "source": [
    "### <span style='color:orange'> Fidelizzazione degli Utenti"
   ]
  },
  {
   "cell_type": "markdown",
   "id": "12032aba-f714-4b16-9032-24ab6dbecdd7",
   "metadata": {},
   "source": [
    "È importante che gli utenti attualmente attivi continuino ad esserlo, perciò si propone un'offerta vantaggiosa di prolungamento dell'abbonamento per gli utenti *241*, *51*, *13* e *157*.  \n",
    "Lo stesso può dirsi per chi si è iscritto nel 2022, visto che c'è una probabilità del 50% che nel 2024 abbandoni il magazine. "
   ]
  },
  {
   "cell_type": "markdown",
   "id": "95023d96-58ba-4354-b7ce-05bc1808bd76",
   "metadata": {},
   "source": [
    "È altrettanto importante cercare di riportare sul magazine gli utenti del 2021 e del 2020 che hanno abbandonato la rivista: per loro si propone un periodo di prova gratis e poi i primi mesi a un prezzo calmierato per incentivare il loro rientro. "
   ]
  },
  {
   "cell_type": "markdown",
   "id": "b0721d13-5891-4035-a78b-73307b73b52e",
   "metadata": {
    "jp-MarkdownHeadingCollapsed": true
   },
   "source": [
    "### <span style = 'color:orange'>Device"
   ]
  },
  {
   "cell_type": "markdown",
   "id": "0a5a70b4-a34b-490f-ad30-d647dba8714e",
   "metadata": {},
   "source": [
    "Il device che viene più utilizzato dagli utenti è il tablet, perciò gli sforzi economici per l'ottimizzazione del sito web andrebbero indirizzati principalmente su questo tipo di piattaforma. "
   ]
  },
  {
   "cell_type": "markdown",
   "id": "7106607c-2eca-4589-8d6c-3dafbb8b2fcb",
   "metadata": {
    "jp-MarkdownHeadingCollapsed": true
   },
   "source": [
    "## <span style = 'color:orange'>Creazione di una dashboard"
   ]
  },
  {
   "cell_type": "markdown",
   "id": "884bd26a-2e32-4d2c-87b9-6004f888cb7e",
   "metadata": {},
   "source": [
    "Verrà creata una dashboard su Tableau che riepiloga quanto visto.  \n",
    "Una seconda dashboard sarà dedicata alla realizzazione di personas di utenti tipo."
   ]
  }
 ],
 "metadata": {
  "kernelspec": {
   "display_name": "Python 3 (ipykernel)",
   "language": "python",
   "name": "python3"
  },
  "language_info": {
   "codemirror_mode": {
    "name": "ipython",
    "version": 3
   },
   "file_extension": ".py",
   "mimetype": "text/x-python",
   "name": "python",
   "nbconvert_exporter": "python",
   "pygments_lexer": "ipython3",
   "version": "3.12.0"
  }
 },
 "nbformat": 4,
 "nbformat_minor": 5
}
