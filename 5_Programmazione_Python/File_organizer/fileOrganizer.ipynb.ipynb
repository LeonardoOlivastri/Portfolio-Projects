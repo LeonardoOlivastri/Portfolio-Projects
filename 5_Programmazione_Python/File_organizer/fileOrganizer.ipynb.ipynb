{
 "cells": [
  {
   "cell_type": "code",
   "execution_count": 17,
   "id": "1d3020d5",
   "metadata": {},
   "outputs": [],
   "source": [
    "import os.path \n",
    "import shutil \n",
    "import csv \n",
    "from binfiles import categorize #vedere commento alla funzione 'get_metadata'\n",
    "from PIL import Image \n",
    "import numpy as np \n",
    "from tabulate import tabulate "
   ]
  },
  {
   "cell_type": "markdown",
   "id": "c6f78e7d",
   "metadata": {},
   "source": [
    "# Step 1"
   ]
  },
  {
   "cell_type": "markdown",
   "id": "94e5c1c6",
   "metadata": {},
   "source": [
    "Nella cartella *files* ci sono 8 file:\n",
    "- 2 file di testo\n",
    "- 2 file audio\n",
    "- 4 immagini,\n",
    "\n",
    "con varie estensioni.\n",
    "\n",
    "\n",
    "Iniziamo creando uno script Python che iteri in ordine alfabetico sui file della cartella files e, a seconda del tipo (audio, documento, immagine), li sposti nella relativa sottocartella (qui sotto trovi un esempio). Se la sottocartella non esiste, lo script la dovrà creare automaticamente.\n",
    "\n",
    "Durante il ciclo, lo script stamperà le informazioni dei file: nome, tipo e dimensione in byte. Questo è l'output desiderato:"
   ]
  },
  {
   "cell_type": "markdown",
   "id": "808e0283",
   "metadata": {},
   "source": [
    "---"
   ]
  },
  {
   "cell_type": "markdown",
   "id": "2cf35d38",
   "metadata": {},
   "source": [
    "La prima funzione serve a ricavare la lista dei file presenti nella directory (ignorando le sotto-cartelle) e a stampare le loro informazioni.  \n",
    "Questa funzione prende in input una directory e una lista vuota, che verrà riempita dallo script"
   ]
  },
  {
   "cell_type": "code",
   "execution_count": 18,
   "id": "8a0db558",
   "metadata": {},
   "outputs": [],
   "source": [
    "def get_metadata(directory, file_list):\n",
    "    #file_names contiene i nomi di tutti i file presenti all'interno della directory, escludendo le cartelle grazie alla condizione if\n",
    "    file_names = [file for file in sorted(os.listdir(directory)) if (os.path.isfile(os.path.join(directory, file))) and (file!= 'recap.csv')] \n",
    "    print('File spostati:')\n",
    "    for file in file_names:\n",
    "        tmp = file.split('.') #si separa il nome del file dalla sua estensione\n",
    "        size = os.path.getsize(directory+'/'+file) #ricaviamo la dimensione in bytes di ogni file\n",
    "        file_list.append([tmp[0], tmp[1], size]) #aggiungiamo queste tre informazioni alla lista vuota\n",
    "        file_type = categorize(tmp[1])\n",
    "        '''\n",
    "        N.B. 'categorize' è una funzione scaricata da GitHub e contenuta nel file 'binfiles.py'. Serve ad accettare il maggior numero di estensioni possibile.\n",
    "        Non era strettamente necessaria per questo progetto, ma permette una migliore scalabilità.\n",
    "        '''\n",
    "        print(f'Name: {tmp[0]}, Type: {file_type}, Size: {size} Bytes') #stampiamo a schermo il nome del file, il suo tipo e la dimensione"
   ]
  },
  {
   "cell_type": "code",
   "execution_count": 19,
   "id": "85eab75e-a332-42f5-8c11-8fd65e9b4746",
   "metadata": {},
   "outputs": [
    {
     "name": "stdout",
     "output_type": "stream",
     "text": [
      "File spostati:\n",
      "Name: bw, Type: image, Size: 94926 Bytes\n",
      "Name: ciao, Type: doc, Size: 12 Bytes\n",
      "Name: daffodil, Type: image, Size: 24657 Bytes\n",
      "Name: eclipse, Type: image, Size: 64243 Bytes\n",
      "Name: pippo, Type: doc, Size: 8299 Bytes\n",
      "Name: song1, Type: audio, Size: 1087849 Bytes\n",
      "Name: song2, Type: audio, Size: 764176 Bytes\n",
      "Name: trump, Type: image, Size: 10195 Bytes\n"
     ]
    }
   ],
   "source": [
    "get_metadata('files', [])"
   ]
  },
  {
   "cell_type": "markdown",
   "id": "acbb0cea",
   "metadata": {},
   "source": [
    "La seconda funzione crea un file di recap e ci scrive le informazioni contenute in *file_list*"
   ]
  },
  {
   "cell_type": "code",
   "execution_count": 20,
   "id": "877b29b0",
   "metadata": {},
   "outputs": [],
   "source": [
    "def create_recap(directory, file_list): #ora file_list è stata riempita di informazioni grazie alla funzione precedente\n",
    "    with open(directory+'/recap.csv', 'w', newline='') as recap:\n",
    "        writer = csv.writer(recap)\n",
    "        writer.writerow(['name', 'type', 'size']) #si scrive prima una riga di header\n",
    "        for i, file in enumerate(file_list):\n",
    "            type = categorize(file[1]) #si ricava di nuovo il tipo generico di file a partire dalla sua estensione\n",
    "            writer.writerow([file_list[i][0], type, file_list[i][2]]) #si scrive una nuova riga con le 3 informazioni necessarie"
   ]
  },
  {
   "cell_type": "markdown",
   "id": "6d74c1b4",
   "metadata": {},
   "source": [
    "La terza funzione aggiorna il file di recap precedentemente creato. Le uniche due differenze sono queste: \n",
    "- il file si apre in modalità *append* anziché *write*\n",
    "- non si scrive una riga per gli header"
   ]
  },
  {
   "cell_type": "code",
   "execution_count": 21,
   "id": "8cf48f84",
   "metadata": {},
   "outputs": [],
   "source": [
    "def update_recap(directory, file_list):\n",
    "    with open(directory+'/recap.csv', 'a', newline='') as recap:\n",
    "        writer = csv.writer(recap)\n",
    "        for i, file in enumerate(file_list):\n",
    "            type = categorize(file[1])\n",
    "            writer.writerow([file_list[i][0], type, file_list[i][2]])\n",
    "            counter += 1"
   ]
  },
  {
   "cell_type": "markdown",
   "id": "abdb9630",
   "metadata": {},
   "source": [
    "La quarta funzione muove i file nella cartella indicata. Se questa cartella non esiste, viene creata."
   ]
  },
  {
   "cell_type": "code",
   "execution_count": 22,
   "id": "080d2ec6",
   "metadata": {},
   "outputs": [],
   "source": [
    "def move(directory, file_list):\n",
    "    for file in file_list:\n",
    "        type = categorize(file[1])\n",
    "        starting_path = f'{directory}/{file[0]}.{file[1]}' #il path di partenza è composto dalla directory, il nome del file (file[0]) e la sua estensione (file[1])\n",
    "        destination_path = f'{directory}/File {type.capitalize()}' #il path di arrivo è composto dalla directory e dalla cartella 'File +{tipo di file}'\n",
    "        if not os.path.isdir(destination_path):\n",
    "            os.mkdir(destination_path) #se la cartella non esiste, viene creata\n",
    "        shutil.move(starting_path, destination_path) #si muove infine il file dall'origine alla destinazione"
   ]
  },
  {
   "cell_type": "markdown",
   "id": "d44745ad",
   "metadata": {},
   "source": [
    "Mettiamo tutto assieme con la funzione *main()*:"
   ]
  },
  {
   "cell_type": "code",
   "execution_count": 34,
   "id": "9895f31e",
   "metadata": {},
   "outputs": [
    {
     "name": "stdout",
     "output_type": "stream",
     "text": [
      "File spostati:\n",
      "Name: bw, Type: image, Size: 94926 Bytes\n",
      "Name: ciao, Type: doc, Size: 12 Bytes\n",
      "Name: daffodil, Type: image, Size: 24657 Bytes\n",
      "Name: eclipse, Type: image, Size: 64243 Bytes\n",
      "Name: pippo, Type: doc, Size: 8299 Bytes\n",
      "Name: song1, Type: audio, Size: 1087849 Bytes\n",
      "Name: song2, Type: audio, Size: 764176 Bytes\n",
      "Name: trump, Type: image, Size: 10195 Bytes\n"
     ]
    }
   ],
   "source": [
    "def main(directory): \n",
    "    file_list = []\n",
    "    get_metadata(directory, file_list)\n",
    "    if os.path.isfile(directory+'/recap.csv'): #se 'recap.csv' esiste, viene avviata 'update_recap', altrimenti 'create_recap'\n",
    "        update_recap(directory, file_list)\n",
    "    else:\n",
    "        create_recap(directory, file_list)\n",
    "    move(directory, file_list)\n",
    "\n",
    "main('files') "
   ]
  },
  {
   "cell_type": "markdown",
   "id": "3ce800a2",
   "metadata": {},
   "source": [
    "# Step 2"
   ]
  },
  {
   "cell_type": "markdown",
   "id": "3013c5e5",
   "metadata": {},
   "source": [
    "Inseriamo lo script creato in un eseguibile chiamato addfile.py dotato di interfaccia a linea di comando (CLI).\n",
    "\n",
    "Lo scopo dell'eseguibile è spostare un singolo file (che si trova nella cartella files) nella sottocartella di competenza, aggiornando il recap.\n",
    "\n",
    "L'interfaccia dell'eseguibile ha come unico argomento (obbligatorio) il nome del file da spostare (comprensivo di formato, es: 'ciao.txt'). Nel caso in cui il file passato come argomento non esista, l'interfaccia deve comunicarlo all'utente."
   ]
  },
  {
   "cell_type": "markdown",
   "id": "f6a96107",
   "metadata": {},
   "source": [
    "# Step 3"
   ]
  },
  {
   "cell_type": "markdown",
   "id": "cb728554",
   "metadata": {},
   "source": [
    "Una immagine in scala di grigio ha un solo livello di colore, una RGB ne ha 3, una RGBA 4 (l'ultimo è detto canale alpha).\n",
    "\n",
    "Il modulo *Image* della libreria PIL permette di caricare un'immagine, che può essere trasformata in un array NumPy attraverso la funzione np.array. A partire da tale array, è possibile capire se l'immagine caricata è in scala di grigio, RGB o RGBA.\n",
    "\n",
    "Aggiungiamo al notebook dello Step 1 uno script che iteri sulla sottocartella images e costruisca una tabella riassuntiva prodotta con la libreria *tabulate*.  \n",
    "Oltre al nome del file, la tabella riporta:\n",
    "\n",
    "- altezza dell'immagine, in pixel\n",
    "- larghezza dell'immagine, in pixel\n",
    "- se l'immagine è in scala di grigio, la colonna *grayscale* indica la media dei valori dell'unico livello di colore\n",
    "- se l'immagine è a colori, le altre colonne indicano la media dei valori di ogni livello di colore.\n"
   ]
  },
  {
   "cell_type": "code",
   "execution_count": 37,
   "id": "45826611",
   "metadata": {
    "scrolled": true
   },
   "outputs": [],
   "source": [
    "def image_processing():\n",
    "    print('Elenco dei file immagine presenti nella cartella delle immagini:\\n')\n",
    "    #image_names è una lista che recupera i nomi di tutti i file presenti nella cartella delle immagini\n",
    "    image_names = [image for image in os.listdir('files/File Image') if os.path.isfile(os.path.join('files/File Image',image))] \n",
    "    x = len(image_names) #x ci serve per creare la lista iniziale\n",
    "    #'dict' è un dizionario in cui ogni chiave è associata a tanti zeri quanti sono i file nella cartella. Man mano, questi zeri verranno sostituiti dai valori reali\n",
    "    dict = {'name':[0]*x, 'height':[0]*x, 'width':[0]*x, 'grayscale':[0]*x, 'R':[0]*x, 'G':[0]*x, 'B':[0]*x, 'ALPHA':[0]*x}\n",
    "    for i, image in enumerate(sorted(image_names)):\n",
    "        with Image.open('files/File Image/'+image, mode='r') as im:\n",
    "            array = np.array(im)\n",
    "            dict['name'][i] = image.split('.')[0] #aggiungiamo il nome del file al dizionario\n",
    "            dict['height'][i] = array.shape[0] #aggiungiamo il numero di pixel in altezza (cioè il numero di righe dell'array)\n",
    "            dict['width'][i] = array.shape[1] #aggiungiamo il numero di pixel in larghezza (cioè il numero di colonne dell'array)\n",
    "            if len(array.shape) == 2:  #le immagini in bianco e nero non hanno una terza dimensione \n",
    "                dict['grayscale'][i] = array.mean().round(2) #mediamo tutti i valori presenti nell'array dell'immagine in bianco e nero\n",
    "            else: \n",
    "                dict['R'][i] = array[:,:,0].mean() #mediamo tutti i valori presenti nella terza dimensione che riguardano il rosso\n",
    "                dict['G'][i] = array[:,:,1].mean()\n",
    "                dict['B'][i] = array[:,:,2].mean()\n",
    "                if array.shape[2] == 4:\n",
    "                    dict['ALPHA'][i] = array[:,:,3].mean().round(2) #se la terza dimensione dell'array è composta da liste di 4 elementi, modifichiamo anche il valore di alpha\n",
    "    print(tabulate(dict, headers='keys', floatfmt=\".2f\")) #usiamo il dizionario 'table' "
   ]
  },
  {
   "cell_type": "code",
   "execution_count": 38,
   "id": "4b4cab3e-82ea-4cd3-9651-b77f50df5b9c",
   "metadata": {},
   "outputs": [
    {
     "name": "stdout",
     "output_type": "stream",
     "text": [
      "Elenco dei file immagine presenti nella cartella delle immagini:\n",
      "\n",
      "name        height    width    grayscale       R       G      B    ALPHA\n",
      "--------  --------  -------  -----------  ------  ------  -----  -------\n",
      "bw             512      512        21.48    0.00    0.00   0.00     0.00\n",
      "daffodil       500      335         0.00  109.23   85.52   4.77     0.00\n",
      "eclipse        256      256         0.00  109.05  109.52  39.85   133.59\n",
      "trump          183      275         0.00   97.01   98.99  90.92     0.00\n"
     ]
    }
   ],
   "source": [
    "image_processing()"
   ]
  },
  {
   "cell_type": "code",
   "execution_count": null,
   "id": "ae6a7317-24e6-4fee-8d64-e455e256aecd",
   "metadata": {},
   "outputs": [],
   "source": []
  }
 ],
 "metadata": {
  "kernelspec": {
   "display_name": "Python 3 (ipykernel)",
   "language": "python",
   "name": "python3"
  },
  "language_info": {
   "codemirror_mode": {
    "name": "ipython",
    "version": 3
   },
   "file_extension": ".py",
   "mimetype": "text/x-python",
   "name": "python",
   "nbconvert_exporter": "python",
   "pygments_lexer": "ipython3",
   "version": "3.10.12"
  }
 },
 "nbformat": 4,
 "nbformat_minor": 5
}
